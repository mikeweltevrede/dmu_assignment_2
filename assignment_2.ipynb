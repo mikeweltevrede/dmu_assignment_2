{
 "cells": [
  {
   "cell_type": "markdown",
   "metadata": {},
   "source": [
    "# Decision Making Under Uncertainty - Assignment 2\n",
    "\n",
    "Group 2:\n",
    "- Martijn Ketelaars (ANR: 120975)\n",
    "- Robbie Reyerse (ANR: 109997)\n",
    "- Rosalien Timmerhuis (ANR: 520618)\n",
    "- Mike Weltevrede (ANR: 756479)\n",
    "\n",
    "## Exercise a.\n",
    "Derive the product-form solution for the stationary distribution of this Jackson network and determine the stability conditions (consult Lecture on 30 October)."
   ]
  },
  {
   "cell_type": "code",
   "execution_count": null,
   "metadata": {},
   "outputs": [],
   "source": []
  },
  {
   "cell_type": "markdown",
   "metadata": {},
   "source": [
    "## Exercise b.\n",
    "Write for this extended system a discrete-event simulation. In order to do this, you might need object-oriented programming."
   ]
  },
  {
   "cell_type": "code",
   "execution_count": 61,
   "metadata": {},
   "outputs": [],
   "source": [
    "from scipy import stats\n",
    "from collections import deque\n",
    "import heapq\n",
    "import numpy as np\n",
    "import matplotlib.pyplot as plt"
   ]
  },
  {
   "cell_type": "code",
   "execution_count": 17,
   "metadata": {},
   "outputs": [],
   "source": [
    "class Customer :\n",
    "\n",
    "    def __init__(self, arrivalTime, priority):\n",
    "        self.arrivalTime = arrivalTime\n",
    "        self.serviceTime = 0\n",
    "        self.systemArrivalTime = arrivalTime\n",
    "        self.priority = priority\n",
    "        \n",
    "        # location: holding, needy, content, out, queue_needy\n",
    "        self.location = 'holding'\n",
    "        \n",
    "    def moveTo(self, location, time, newServiceTime):\n",
    "        \n",
    "        assert location.lower() in {'holding', 'needy', 'content', 'out', 'queue_needy'},\\\n",
    "            \"Not a proper location. Location should be holding, needy, content, out, or queue_needy\"\n",
    "        \n",
    "        self.location = location.lower()\n",
    "        self.arrivalTime = time\n",
    "        self.serviceTime = newServiceTime\n",
    "        \n",
    "    def leaveSystem(self):\n",
    "        self.location = 'out'\n",
    "        self.serviceTime = -1\n",
    "        "
   ]
  },
  {
   "cell_type": "code",
   "execution_count": 18,
   "metadata": {},
   "outputs": [],
   "source": [
    "class Event:\n",
    "\n",
    "    ARRIVAL = 'ARRIVAL'\n",
    "    DEPARTURE = 'DEPARTURE'\n",
    "    \n",
    "    def __init__(self, typ, time, cust): \n",
    "        self.type = typ\n",
    "        self.time = time\n",
    "        self.customer = cust\n",
    "        \n",
    "    def __lt__(self, other):\n",
    "        return self.time < other.time\n",
    "        \n",
    "    def __str__(self):\n",
    "        s = ('Arrival', 'Departure')\n",
    "        return self.type + \" of customer \" + str(self.customer) + ' at t = ' + str(self.time)\n"
   ]
  },
  {
   "cell_type": "code",
   "execution_count": 19,
   "metadata": {},
   "outputs": [],
   "source": [
    "class FES :\n",
    "    \n",
    "    def __init__(self):\n",
    "        self.events = []\n",
    "        \n",
    "    def add(self, event):\n",
    "        heapq.heappush(self.events, event)\n",
    "        \n",
    "    def next(self):\n",
    "        return heapq.heappop(self.events)\n",
    "    \n",
    "    def isEmpty(self):\n",
    "        return len(self.events) == 0\n",
    "        \n",
    "    def __str__(self):\n",
    "        # Note that if you print self.events, it would not appear to be sorted\n",
    "        # (although they are sorted internally).\n",
    "        # For this reason we use the function 'sorted'\n",
    "        s = ''\n",
    "        sortedEvents = sorted(self.events)\n",
    "        for e in sortedEvents :\n",
    "            s += str(e) + '\\n'\n",
    "        return s\n"
   ]
  },
  {
   "cell_type": "code",
   "execution_count": 20,
   "metadata": {},
   "outputs": [],
   "source": [
    "class NeedyServer:\n",
    "    \n",
    "    def __init__(self, servDist, nrServers=2):\n",
    "        self.servDist = servDist\n",
    "        self.nrServers = nrServers\n",
    "        self.number_of_customers = 0 # Number of customers at this server, not including queue\n",
    "        \n",
    "    def __len__(self):\n",
    "        return self.number_of_customers\n",
    "        \n",
    "class ContentServer:\n",
    "    \n",
    "    def __init__(self, servDist):\n",
    "        self.servDist = servDist\n",
    "        self.number_of_customers = 0\n",
    "    \n",
    "    def __len__(self):\n",
    "        return self.number_of_customers\n",
    "    "
   ]
  },
  {
   "cell_type": "code",
   "execution_count": 21,
   "metadata": {},
   "outputs": [
    {
     "data": {
      "text/plain": [
       "9"
      ]
     },
     "execution_count": 21,
     "metadata": {},
     "output_type": "execute_result"
    }
   ],
   "source": []
  },
  {
   "cell_type": "code",
   "execution_count": 22,
   "metadata": {},
   "outputs": [],
   "source": [
    "class SimulationResults:\n",
    "    \n",
    "    def __init__(self):\n",
    "        self.results = {\n",
    "            'blocking_probability': {'high': 0,\n",
    "                                     'low': 0,\n",
    "                                     'total': 0},\n",
    "            'waiting_probability_needy': {'high_priority': 0,\n",
    "                                          'low_priority': 0},\n",
    "            'mean_time_in_system': {'high_priority': 0,\n",
    "                                    'low_priority': 0},\n",
    "            'mean_waiting_time_in_system': {'high_priority': 0,\n",
    "                                            'low_priority': 0},\n",
    "            'mean_waiting_time_to_enter_system': {'high_priority': 0,\n",
    "                                                  'low_priority': 0},\n",
    "            'mean_queue_length': {'holding_high_priority': 0,\n",
    "                                  'holding_low_priority': 0,\n",
    "                                  'needy': 0},\n",
    "            'utilisation_needy': 0\n",
    "        }\n",
    "        self.results = {}\n",
    "        \n",
    "        self.number_of_arrivals = {'high': 0,\n",
    "                                     'low': 0}\n",
    "        self.number_of_arrivals_waiting = {'high': 0,\n",
    "                                     'low': 0}\n",
    "        \n",
    "        \n",
    "    def register_arrival(self, priority, waiting=False):\n",
    "        \n",
    "        self.number_of_arrivals[priority] += 1\n",
    "\n",
    "        if waiting:\n",
    "            self.number_of_arrivals_waiting[priority] += 1\n",
    "    \n",
    "    def calculate_blocking_probability(self):\n",
    "        # number of arrivals that have to wait in holding / total number of arrivals\n",
    "        \n",
    "        self.results['blocking_probability'] = {priority : self.number_of_arrivals_waiting[priority] / self.number_of_arrivals[priority]\n",
    "                                               for priority in ('high','low')}\n",
    "        self.results['blocking_probability']['total'] = sum(self.number_of_arrivals_waiting.values()) / sum(self.number_of_arrivals.values())\n",
    "        \n",
    "        \n"
   ]
  },
  {
   "cell_type": "code",
   "execution_count": 178,
   "metadata": {},
   "outputs": [],
   "source": [
    "\n",
    "\n",
    "class Network:\n",
    "    \n",
    "    def __init__(self, lambda_L, lambda_H, servDist_needy, nrServers, servDist_content, N, p):\n",
    "        self.arrDist = stats.expon(scale=1/(lambda_L+lambda_H))\n",
    "        self.high_priority_probability = lambda_H/(lambda_L+lambda_H) # probability for high\n",
    "        self.N = N\n",
    "        self.p = p\n",
    "        \n",
    "        # Create servers\n",
    "        self.NeedyServer = NeedyServer(servDist_needy, nrServers)\n",
    "        self.ContentServer = ContentServer(servDist_content)\n",
    "        self.simresults = SimulationResults()\n",
    "        \n",
    "    def simulate(self, T):\n",
    "        \n",
    "        t = 0 # initialise time\n",
    "        total_needy_queue=0\n",
    "        \n",
    "        fes = FES()                  \n",
    "        queue_holding_high = deque() # the holding queue for high priority\n",
    "        queue_holding_low = deque()  # the holding queue for low priority\n",
    "        queue_needy = deque()        # the queue for needy server\n",
    "        \n",
    "        # Generate arrival of the first customer\n",
    "        u = stats.uniform().rvs()\n",
    "        \n",
    "        if u < self.high_priority_probability:\n",
    "            c0 = Customer(self.arrDist.rvs(), priority='high')\n",
    "        else:\n",
    "            c0 = Customer(self.arrDist.rvs(), priority='low')\n",
    "            \n",
    "        firstEvent = Event(Event.ARRIVAL, c0.arrivalTime, c0)\n",
    "        fes.add(firstEvent)                    # schedule first arrival event\n",
    "        \n",
    "        \n",
    "        \n",
    "        # if number people < N: go to needy queue\n",
    "        while t < T:\n",
    "            \n",
    "#             print(\"-----------------\")\n",
    "#             print(\"FES:\")\n",
    "#             print(fes.__str__())\n",
    "            \n",
    "            e = fes.next()                      # jump to next event\n",
    "            t = e.time                          # update the time\n",
    "            c1 = e.customer                 # customer associated with this event\n",
    "            \n",
    "            number_in_system = len(queue_needy) + len(self.NeedyServer) + len(self.ContentServer)\n",
    "\n",
    "           # print(\"Needy queue:\", len(queue_needy), t)\n",
    "            total_needy_queue += len(queue_needy)\n",
    "           # print(total_needy_queue)\n",
    "            \n",
    "#             print(\"At time\", t)\n",
    "#             print(\"Event\", e)\n",
    "#             print(\"Number in system:\", number_in_system)\n",
    "#             print(f\"of which {len(queue_needy)} in needy queue, {len(self.NeedyServer)} in needy server, {len(self.ContentServer)} in content server\")\n",
    "#             print(\"Holding queue - high:\", queue_holding_high)\n",
    "#             print(\"Holding queue - low:\", queue_holding_low)\n",
    "               # print(\"Needy queue:\", queue_needy)\n",
    "            \n",
    "            if e.type == 'ARRIVAL':\n",
    "                if c1.location == 'holding':\n",
    "                    \n",
    "                    # Someone arrive\n",
    "                    \n",
    "                    if number_in_system <= self.N:\n",
    "                        # Admit this customer\n",
    "\n",
    "                        if len(self.NeedyServer) < self.NeedyServer.nrServers:\n",
    "                            # Admit this customer\n",
    "                            serviceTime = self.NeedyServer.servDist.rvs()\n",
    "                            c1.moveTo('needy', t, serviceTime)\n",
    "                            \n",
    "                            # Update number of customers at needy server\n",
    "                            self.NeedyServer.number_of_customers += 1\n",
    "                            \n",
    "                            dep = Event(Event.DEPARTURE, t + serviceTime, c1)\n",
    "                            fes.add(dep)\n",
    "\n",
    "                        else:\n",
    "                            # Queue in needy, independent of priority\n",
    "                            queue_needy.append(c1)\n",
    "                            c1.moveTo('queue_needy', t, _)\n",
    "\n",
    "                        self.simresults.register_arrival(priority=c1.priority)\n",
    "                            \n",
    "                    else:\n",
    "                        # else: add to holding queue\n",
    "                        if c1.priority == 'high':\n",
    "                            queue_holding_high.append(c1)\n",
    "                        else:\n",
    "                            queue_holding_low.append(c1)\n",
    "                            \n",
    "                        self.simresults.register_arrival(priority=c1.priority, waiting=True)\n",
    "\n",
    "                    # Schedule new arrival\n",
    "                    u = stats.uniform().rvs()\n",
    "\n",
    "                    if u < self.high_priority_probability:\n",
    "                        c2 = Customer(self.arrDist.rvs(), priority='high')\n",
    "                    else:\n",
    "                        c2 = Customer(self.arrDist.rvs(), priority='low')\n",
    "\n",
    "                    arrival = Event(Event.ARRIVAL, t + c2.arrivalTime, c2)\n",
    "                    fes.add(arrival)\n",
    "                else:\n",
    "                    raise Exception(\"ERROR: Arrival from\", c1.location)\n",
    "                    \n",
    "                \n",
    "            elif e.type == 'DEPARTURE':\n",
    "                # Then it's a departure\n",
    "                \n",
    "                # Check if departed from needy or from content\n",
    "                if c1.location == 'content':\n",
    "                    \n",
    "                    # Update number of customers at needy server\n",
    "                    self.ContentServer.number_of_customers -= 1\n",
    "                    \n",
    "                    if len(self.NeedyServer) < self.NeedyServer.nrServers:\n",
    "                        serviceTime = self.NeedyServer.servDist.rvs()\n",
    "                        c1.moveTo('needy', t, serviceTime)\n",
    "                        \n",
    "                        # Update number of customers at needy server\n",
    "                        self.NeedyServer.number_of_customers += 1\n",
    "                        \n",
    "                        dep = Event(Event.DEPARTURE, t + serviceTime, c1)\n",
    "                        fes.add(dep)\n",
    "                    else:\n",
    "                        queue_needy.append(c1)\n",
    "                        c1.moveTo('queue_needy', t, _)\n",
    "                        \n",
    "                elif c1.location == 'needy':\n",
    "                    \n",
    "                    # Update number of customers at needy server\n",
    "                    self.NeedyServer.number_of_customers -= 1\n",
    "                    \n",
    "                    # Admit person from needy queue, if nonempty\n",
    "                    if len(queue_needy) > 0:\n",
    "                        c2 = queue_needy.popleft()\n",
    "                        \n",
    "                        serviceTime = self.NeedyServer.servDist.rvs()\n",
    "                        c2.moveTo('needy', t, serviceTime)\n",
    "\n",
    "                        # Update number of customers at needy server\n",
    "                        self.NeedyServer.number_of_customers += 1\n",
    "\n",
    "                        dep = Event(Event.DEPARTURE, t + serviceTime, c2)\n",
    "                        fes.add(dep)\n",
    "                    \n",
    "                    # Check if leaves or goes to content\n",
    "                    u = stats.uniform().rvs()\n",
    "\n",
    "                    if u < self.p:\n",
    "                        # Go to content\n",
    "                        serviceTime = self.ContentServer.servDist.rvs()\n",
    "                        c1.moveTo('content', t, serviceTime)\n",
    "                        \n",
    "                        # Update number of customers at needy server\n",
    "                        self.ContentServer.number_of_customers += 1\n",
    "                        \n",
    "                        dep = Event(Event.DEPARTURE, t + serviceTime, c1)\n",
    "                        fes.add(dep)\n",
    "                        \n",
    "                    else:\n",
    "                        # Leave system\n",
    "                        c1.leaveSystem() # Set c1.location to out and c1.serviceTime to -1\n",
    "                        \n",
    "                        # Admit someone from holding queue\n",
    "                        if len(queue_holding_high) > 0:\n",
    "                            c2 = queue_holding_high.popleft()\n",
    "                            \n",
    "                            # Note that we only enter here if a person is admitted from the holding queue\n",
    "                            if len(self.NeedyServer) < self.NeedyServer.nrServers:\n",
    "                                serviceTime = self.NeedyServer.servDist.rvs()\n",
    "                                c2.moveTo('needy', t, serviceTime)\n",
    "\n",
    "                                # Update number of customers at needy server\n",
    "                                self.NeedyServer.number_of_customers += 1\n",
    "\n",
    "                                dep = Event(Event.DEPARTURE, t + serviceTime, c2)\n",
    "                                fes.add(dep)\n",
    "                            else:\n",
    "                                queue_needy.append(c2)\n",
    "                                c2.moveTo('queue_needy', t, _)\n",
    "                            \n",
    "                        elif len(queue_holding_low) > 0:\n",
    "                            c2 = queue_holding_low.popleft()\n",
    "                            \n",
    "                            # Note that we only enter here if a person is admitted from the holding queue\n",
    "                            if len(self.NeedyServer) < self.NeedyServer.nrServers:\n",
    "                                serviceTime = self.NeedyServer.servDist.rvs()\n",
    "                                c2.moveTo('needy', t, serviceTime)\n",
    "\n",
    "                                # Update number of customers at needy server\n",
    "                                self.NeedyServer.number_of_customers += 1\n",
    "\n",
    "                                dep = Event(Event.DEPARTURE, t + serviceTime, c2)\n",
    "                                fes.add(dep)\n",
    "                            else:\n",
    "                                queue_needy.append(c2)\n",
    "                                c2.moveTo('queue_needy', t, _)\n",
    "                        else:\n",
    "                            pass\n",
    "#                             print(f\"No one in holding queue: {len(queue_holding_high)} high and {len(queue_holding_low)} low\")\n",
    "                            # No one waiting in holding queue;\n",
    "#                             next # Go to next iteration of while loop (i.e. skip everything below this)\n",
    "                        \n",
    "                else:\n",
    "                    raise Exception(\"ERROR: Departure from\", c1.location)\n",
    "        return total_needy_queue"
   ]
  },
  {
   "cell_type": "code",
   "execution_count": 179,
   "metadata": {
    "scrolled": true
   },
   "outputs": [
    {
     "name": "stdout",
     "output_type": "stream",
     "text": [
      "2656\n"
     ]
    }
   ],
   "source": [
    "np.random.seed(1)\n",
    "\n",
    "mu = 1\n",
    "delta = 1\n",
    "\n",
    "servDist_needy = stats.expon(scale=float(1/mu))\n",
    "servDist_content = stats.expon(scale=1/float(1/delta))\n",
    "\n",
    "sim = Network(lambda_L=6, lambda_H=4, servDist_needy=servDist_needy, nrServers=2,\n",
    "              servDist_content=servDist_content, N=25, p=0.4)\n",
    "\n",
    "q_n = sim.simulate(T=1000)\n",
    "print(q_n)"
   ]
  },
  {
   "cell_type": "code",
   "execution_count": 26,
   "metadata": {
    "scrolled": true
   },
   "outputs": [
    {
     "name": "stdout",
     "output_type": "stream",
     "text": [
      "{'high': 3975, 'low': 6017} {'high': 3963, 'low': 6002}\n",
      "{'blocking_probability': {'high': 0.9969811320754717, 'low': 0.9975070633205917, 'total': 0.9972978382706165}}\n"
     ]
    }
   ],
   "source": [
    "print(sim.simresults.number_of_arrivals, sim.simresults.number_of_arrivals_waiting)\n",
    "\n",
    "sim.simresults.calculate_blocking_probability()\n",
    "print(sim.simresults.results)\n"
   ]
  },
  {
   "cell_type": "markdown",
   "metadata": {},
   "source": [
    "## Exercise c.\n",
    "Use your discrete-event simulation to present performance measures (perhaps probability of blocking for the different customer priority classes, probability of waiting, mean queue length, mean waiting time,...) for the extended system for different values of $\\lambda_L$, $\\lambda_H$, and $\\delta$, and different values of $N$. Elaborate on your findings by creating a comprehensive management report including several sensitivity analyses."
   ]
  },
  {
   "cell_type": "code",
   "execution_count": 72,
   "metadata": {},
   "outputs": [
    {
     "name": "stdout",
     "output_type": "stream",
     "text": [
      "Probability for lambda_L equal to 1\n",
      "Maximum probability:  0.9813278008298755\n",
      "\n",
      "Probability for lambda_L equal to 2\n",
      "Maximum probability:  0.9949899799599199\n",
      "\n",
      "Probability for lambda_L equal to 3\n",
      "Maximum probability:  0.9895561357702349\n",
      "\n",
      "Probability for lambda_L equal to 4\n",
      "Maximum probability:  0.9921875\n",
      "\n",
      "Probability for lambda_L equal to 5\n",
      "Maximum probability:  0.9952922714790113\n",
      "\n",
      "Probability for lambda_L equal to 6\n",
      "Maximum probability:  0.9923384410393071\n",
      "\n",
      "Probability for lambda_L equal to 7\n",
      "Maximum probability:  0.995427264932838\n",
      "\n",
      "Probability for lambda_L equal to 8\n",
      "Maximum probability:  0.995417515274949\n",
      "\n",
      "Probability for lambda_L equal to 9\n",
      "Maximum probability:  0.9955595026642984\n",
      "\n"
     ]
    }
   ],
   "source": [
    "#changing lambda L (and thus fix lambda H)\n",
    "np.random.seed(1)\n",
    "\n",
    "mu = 1\n",
    "delta = 1\n",
    "servDist_needy = stats.expon(scale=float(1/mu))\n",
    "servDist_content = stats.expon(scale=1/float(1/delta))\n",
    "lambda_L=1\n",
    "\n",
    "runs =9\n",
    "\n",
    "lambda_L_array = np.zeros(runs)\n",
    "probabilities_low = np.zeros(runs)\n",
    "\n",
    "for i in range(runs):\n",
    "    sim = Network(lambda_L, lambda_H=4, servDist_needy=servDist_needy, nrServers=2,\n",
    "              servDist_content=servDist_content, N=25, p=0.4)\n",
    "    sim.simulate(T=100)\n",
    "\n",
    "    sim.simresults.calculate_blocking_probability()\n",
    "    print(\"Probability for lambda_L equal to\", lambda_L)\n",
    "    print(\"Maximum probability: \", sim.simresults.results['blocking_probability']['low'])\n",
    "    print(\"\")\n",
    "    \n",
    "    probabilities_low[i] = sim.simresults.results['blocking_probability']['low']\n",
    "    lambda_L_array[i] = lambda_L\n",
    "    lambda_L += 1\n",
    "    "
   ]
  },
  {
   "cell_type": "code",
   "execution_count": 84,
   "metadata": {},
   "outputs": [
    {
     "name": "stdout",
     "output_type": "stream",
     "text": [
      "Probability for lambda_H equal to 1\n",
      "Maximum probability high:  0.948051948051948\n",
      "\n",
      "Probability for lambda_H equal to 2\n",
      "Maximum probability high:  0.9423076923076923\n",
      "\n",
      "Probability for lambda_H equal to 3\n",
      "Maximum probability high:  0.9646643109540636\n",
      "\n",
      "Probability for lambda_H equal to 4\n",
      "Maximum probability high:  0.9761904761904762\n",
      "\n",
      "Probability for lambda_H equal to 5\n",
      "Maximum probability high:  0.970954356846473\n",
      "\n",
      "Probability for lambda_H equal to 6\n",
      "Maximum probability high:  0.9753521126760564\n",
      "\n",
      "Probability for lambda_H equal to 7\n",
      "Maximum probability high:  0.981159420289855\n",
      "\n",
      "Probability for lambda_H equal to 8\n",
      "Maximum probability high:  0.9790575916230366\n",
      "\n",
      "Probability for lambda_H equal to 9\n",
      "Maximum probability high:  0.9811946902654868\n",
      "\n",
      "Probability for lambda_H equal to 10\n",
      "Maximum probability high:  0.9790076335877863\n",
      "\n"
     ]
    }
   ],
   "source": [
    "#changing lambda H (and thus fix lambda L)\n",
    "np.random.seed(1)\n",
    "\n",
    "mu = 1\n",
    "delta = 1\n",
    "servDist_needy = stats.expon(scale=float(1/mu))\n",
    "servDist_content = stats.expon(scale=1/float(1/delta))\n",
    "lambda_H=1\n",
    "lambda_L=6\n",
    "\n",
    "runs =10\n",
    "\n",
    "lambda_H_array = np.zeros(runs)\n",
    "probabilities_high = np.zeros(runs)\n",
    "lambda_L_array = np.zeros(runs)\n",
    "probabilities_low = np.zeros(runs)\n",
    "\n",
    "for i in range(runs):\n",
    "    sim = Network(lambda_L, lambda_H, servDist_needy=servDist_needy, nrServers=2,\n",
    "              servDist_content=servDist_content, N=25, p=0.4)\n",
    "    sim.simulate(T=100)\n",
    "\n",
    "    sim.simresults.calculate_blocking_probability()\n",
    "    print(\"Probability for lambda_H equal to\", lambda_H)\n",
    "    print(\"Maximum probability high: \", sim.simresults.results['blocking_probability']['high'])\n",
    "    print(\"\")\n",
    "    \n",
    "    probabilities_high[i] = sim.simresults.results['blocking_probability']['high']\n",
    "    probabilities_low[i] = sim.simresults.results['blocking_probability']['low']\n",
    "    lambda_H_array[i] = lambda_H\n",
    "    lambda_H += 1"
   ]
  },
  {
   "cell_type": "code",
   "execution_count": 87,
   "metadata": {
    "scrolled": true
   },
   "outputs": [
    {
     "data": {
      "text/plain": [
       "Text(0.5, 1.0, 'Change in probability as $\\\\lambda_L$ changes')"
      ]
     },
     "execution_count": 87,
     "metadata": {},
     "output_type": "execute_result"
    },
    {
     "data": {
      "image/png": "[encoded data removed]",
      "text/plain": [
       "<Figure size 432x288 with 1 Axes>"
      ]
     },
     "metadata": {
      "needs_background": "light"
     },
     "output_type": "display_data"
    }
   ],
   "source": [
    "plt.plot(lambda_H_array, probabilities_low, marker='o', color='#de5285')\n",
    "plt.plot(lambda_H_array, probabilities_high, marker='o')\n",
    "plt.xlabel('$lambda_L$')\n",
    "plt.ylabel('Probability')\n",
    "plt.title('Change in probability as $\\lambda_L$ changes')"
   ]
  },
  {
   "cell_type": "code",
   "execution_count": 88,
   "metadata": {
    "scrolled": false
   },
   "outputs": [
    {
     "data": {
      "text/plain": [
       "Text(0.5, 1.0, 'Change in probability as $\\\\lambda_H$ changes')"
      ]
     },
     "execution_count": 88,
     "metadata": {},
     "output_type": "execute_result"
    },
    {
     "data": {
      "image/png": "[encoded data removed]",
      "text/plain": [
       "<Figure size 432x288 with 1 Axes>"
      ]
     },
     "metadata": {
      "needs_background": "light"
     },
     "output_type": "display_data"
    }
   ],
   "source": [
    "plt.plot(lambda_H_array, probabilities_high, marker='o', color='#de5285')\n",
    "plt.xlabel('$\\lambda_H$')\n",
    "plt.ylabel('Probability')\n",
    "plt.title('Change in probability as $\\lambda_H$ changes')"
   ]
  },
  {
   "cell_type": "code",
   "execution_count": 184,
   "metadata": {},
   "outputs": [
    {
     "name": "stdout",
     "output_type": "stream",
     "text": [
      "Probability of not leaving system equal to 0.1\n",
      "Mean queue length:  22.113076923076925\n",
      "\n",
      "Probability of not leaving system equal to 0.2\n",
      "Mean queue length:  22.61\n",
      "\n",
      "Probability of not leaving system equal to 0.30000000000000004\n",
      "Mean queue length:  23.142307692307693\n",
      "\n",
      "Probability of not leaving system equal to 0.4\n",
      "Mean queue length:  22.70769230769231\n",
      "\n",
      "Probability of not leaving system equal to 0.5\n",
      "Mean queue length:  22.65\n",
      "\n",
      "Probability of not leaving system equal to 0.6\n",
      "Mean queue length:  22.806923076923077\n",
      "\n",
      "Probability of not leaving system equal to 0.7\n",
      "Mean queue length:  21.803846153846155\n",
      "\n",
      "Probability of not leaving system equal to 0.7999999999999999\n",
      "Mean queue length:  22.55846153846154\n",
      "\n",
      "Probability of not leaving system equal to 0.8999999999999999\n",
      "Mean queue length:  23.043076923076924\n",
      "\n"
     ]
    }
   ],
   "source": [
    "#changing p  (comparing the needy queue length)\n",
    "np.random.seed(1)\n",
    "\n",
    "mu = 1\n",
    "delta = 1\n",
    "servDist_needy = stats.expon(scale=float(1/mu))\n",
    "servDist_content = stats.expon(scale=1/float(1/delta))\n",
    "p = 0.1\n",
    "lambda_L=5\n",
    "lambda_H=5\n",
    "nrServers=2\n",
    "N=25\n",
    "servDist_needy=servDist_needy\n",
    "servDist_content=servDist_content\n",
    "\n",
    "runs = 9\n",
    "\n",
    "p_array = np.zeros(runs)\n",
    "queuelength = np.zeros(runs)\n",
    "T=100\n",
    "\n",
    "for i in range(runs):\n",
    "    sim = Network(lambda_L, lambda_H, servDist_needy, nrServers,\n",
    "              servDist_content, N, p)\n",
    "    q_n = sim.simulate(T)\n",
    "\n",
    "    #sim.simresults.calculate_mean_queue_length()\n",
    "    print(\"Probability of not leaving system equal to\", p)\n",
    "    print(\"Mean queue length: \", q_n / (T *13))\n",
    "    print(\"\")\n",
    "    \n",
    "    queuelength[i] = q_n / (T *13)\n",
    "    p_array[i] = p\n",
    "    p += .1"
   ]
  },
  {
   "cell_type": "code",
   "execution_count": 186,
   "metadata": {},
   "outputs": [
    {
     "data": {
      "text/plain": [
       "Text(0.5, 1.0, 'Change in probability as $\\\\lambda_H$ changes')"
      ]
     },
     "execution_count": 186,
     "metadata": {},
     "output_type": "execute_result"
    },
    {
     "data": {
      "image/png": "[encoded data removed]",
      "text/plain": [
       "<Figure size 432x288 with 1 Axes>"
      ]
     },
     "metadata": {
      "needs_background": "light"
     },
     "output_type": "display_data"
    }
   ],
   "source": [
    "plt.plot(p_array, queuelength, marker='o', color='#de5285')\n",
    "plt.xlabel('$p$')\n",
    "plt.ylabel('Queue length')\n",
    "plt.title('Change in probability as $\\lambda_H$ changes')"
   ]
  },
  {
   "cell_type": "markdown",
   "metadata": {},
   "source": [
    "## Exercise d.\n",
    "Investigate the didderence in performance between the original system ($N = 1$) and the extended system (finite $N$). For instance, how fast does the behavior of the extended system mimic the original system behavior as $N$ increases?"
   ]
  },
  {
   "cell_type": "code",
   "execution_count": null,
   "metadata": {},
   "outputs": [],
   "source": []
  },
  {
   "cell_type": "code",
   "execution_count": null,
   "metadata": {},
   "outputs": [],
   "source": []
  }
 ],
 "metadata": {
  "kernelspec": {
   "display_name": "Python 3",
   "language": "python",
   "name": "python3"
  },
  "language_info": {
   "codemirror_mode": {
    "name": "ipython",
    "version": 3
   },
   "file_extension": ".py",
   "mimetype": "text/x-python",
   "name": "python",
   "nbconvert_exporter": "python",
   "pygments_lexer": "ipython3",
   "version": "3.7.3"
  }
 },
 "nbformat": 4,
 "nbformat_minor": 2
}
