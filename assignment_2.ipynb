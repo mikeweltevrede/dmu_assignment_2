{
 "cells": [
  {
   "cell_type": "markdown",
   "metadata": {},
   "source": [
    "# Decision Making Under Uncertainty - Assignment 2\n",
    "\n",
    "Group 2:\n",
    "- Martijn Ketelaars (ANR: 120975)\n",
    "- Robbie Reyerse (ANR: 109997)\n",
    "- Rosalien Timmerhuis (ANR: 520618)\n",
    "- Mike Weltevrede (ANR: 756479)\n",
    "\n",
    "## Exercise a.\n",
    "Derive the product-form solution for the stationary distribution of this Jackson network and determine the stability conditions (consult Lecture on 30 October)."
   ]
  },
  {
   "cell_type": "code",
   "execution_count": null,
   "metadata": {},
   "outputs": [],
   "source": []
  },
  {
   "cell_type": "markdown",
   "metadata": {},
   "source": [
    "## Exercise b.\n",
    "Write for this extended system a discrete-event simulation. In order to do this, you might need object-oriented programming."
   ]
  },
  {
   "cell_type": "code",
   "execution_count": 240,
   "metadata": {},
   "outputs": [
    {
     "ename": "ModuleNotFoundError",
     "evalue": "No module named 'tqdm'",
     "output_type": "error",
     "traceback": [
      "\u001b[1;31m---------------------------------------------------------------------------\u001b[0m",
      "\u001b[1;31mModuleNotFoundError\u001b[0m                       Traceback (most recent call last)",
      "\u001b[1;32m<ipython-input-240-27bb158c2cf5>\u001b[0m in \u001b[0;36m<module>\u001b[1;34m()\u001b[0m\n\u001b[0;32m      9\u001b[0m \u001b[1;32mimport\u001b[0m \u001b[0mseaborn\u001b[0m \u001b[1;32mas\u001b[0m \u001b[0msns\u001b[0m\u001b[1;33m;\u001b[0m \u001b[0msns\u001b[0m\u001b[1;33m.\u001b[0m\u001b[0mset\u001b[0m\u001b[1;33m(\u001b[0m\u001b[1;33m)\u001b[0m\u001b[1;33m\u001b[0m\u001b[0m\n\u001b[0;32m     10\u001b[0m \u001b[1;32mfrom\u001b[0m \u001b[0mscipy\u001b[0m \u001b[1;32mimport\u001b[0m \u001b[0mstats\u001b[0m\u001b[1;33m\u001b[0m\u001b[0m\n\u001b[1;32m---> 11\u001b[1;33m \u001b[1;32mfrom\u001b[0m \u001b[0mtqdm\u001b[0m \u001b[1;32mimport\u001b[0m \u001b[0mtqdm\u001b[0m\u001b[1;33m\u001b[0m\u001b[0m\n\u001b[0m\u001b[0;32m     12\u001b[0m \u001b[1;33m\u001b[0m\u001b[0m\n\u001b[0;32m     13\u001b[0m \u001b[1;32mimport\u001b[0m \u001b[0mwarnings\u001b[0m\u001b[1;33m\u001b[0m\u001b[0m\n",
      "\u001b[1;31mModuleNotFoundError\u001b[0m: No module named 'tqdm'"
     ]
    }
   ],
   "source": [
    "verbose = True\n",
    "\n",
    "import statistics\n",
    "from collections import deque\n",
    "\n",
    "import heapq\n",
    "import numpy as np\n",
    "import matplotlib.pyplot as plt\n",
    "import seaborn as sns; sns.set()\n",
    "from scipy import stats\n",
    "from tqdm import tqdm\n",
    "\n",
    "import warnings\n",
    "warnings.simplefilter(action='ignore', category=FutureWarning)\n",
    "\n",
    "\n"
   ]
  },
  {
   "cell_type": "code",
   "execution_count": 123,
   "metadata": {},
   "outputs": [],
   "source": [
    "class Customer :\n",
    "\n",
    "    def __init__(self, arrivalTime, priority):\n",
    "        self.arrivalTime = arrivalTime\n",
    "        self.serviceTime = 0\n",
    "        self.systemArrivalTime = arrivalTime\n",
    "        self.priority = priority\n",
    "        self.NQW = 0 #NQW = needy queue waiting time\n",
    "        self.needyArrivalTime = 0   #a customer arrives only one time in the system\n",
    "        self.needyQueueArrivalTime = 0\n",
    "        self.enterClosedSystemTime = 0\n",
    "        \n",
    "        # location: holding, needy, content, out, queue_needy\n",
    "        self.location = 'holding'\n",
    "        \n",
    "    def moveTo(self, location, time, newServiceTime):\n",
    "        \n",
    "        assert location.lower() in {'holding', 'needy', 'content', 'out', 'queue_needy'},\\\n",
    "            \"Not a proper location. Location should be holding, needy, content, out, or queue_needy\"\n",
    "        \n",
    "        if self.location.lower() == \"holding\":\n",
    "            self.needyArrivalTime = time\n",
    "        \n",
    "        if location.lower() == \"queue_needy\":\n",
    "            self.needyQueueArrivalTime = time\n",
    "            \n",
    "        self.location = location.lower()\n",
    "        self.arrivalTime = time\n",
    "        self.serviceTime = newServiceTime\n",
    "        \n",
    "    def enterClosedSystem(self,time):\n",
    "        self.enterClosedSystemTime = time\n",
    "        \n",
    "    def leaveSystem(self,time):\n",
    "        self.location = 'out'\n",
    "        self.serviceTime = -1\n",
    "        self.sojournTime = time - self.enterClosedSystemTime\n",
    "        "
   ]
  },
  {
   "cell_type": "code",
   "execution_count": 124,
   "metadata": {},
   "outputs": [],
   "source": [
    "class Event:\n",
    "\n",
    "    ARRIVAL = 'ARRIVAL'\n",
    "    DEPARTURE = 'DEPARTURE'\n",
    "    \n",
    "    def __init__(self, typ, time, cust): \n",
    "        self.type = typ\n",
    "        self.time = time\n",
    "        self.customer = cust\n",
    "        \n",
    "    def __lt__(self, other):\n",
    "        return self.time < other.time\n",
    "    "
   ]
  },
  {
   "cell_type": "code",
   "execution_count": 125,
   "metadata": {},
   "outputs": [],
   "source": [
    "class FES :\n",
    "    \n",
    "    def __init__(self):\n",
    "        self.events = []\n",
    "        \n",
    "    def add(self, event):\n",
    "        heapq.heappush(self.events, event)\n",
    "        \n",
    "    def next(self):\n",
    "        return heapq.heappop(self.events)\n",
    "    "
   ]
  },
  {
   "cell_type": "code",
   "execution_count": 126,
   "metadata": {},
   "outputs": [],
   "source": [
    "class NeedyServer:\n",
    "    \n",
    "    def __init__(self, servDist, nrServers=2):\n",
    "        self.servDist = servDist\n",
    "        self.nrServers = nrServers\n",
    "        \n",
    "        # Number of customers at this server, not including queue\n",
    "        self.number_of_customers = 0\n",
    "        \n",
    "    def __len__(self):\n",
    "        return self.number_of_customers\n",
    "        \n",
    "class ContentServer:\n",
    "    \n",
    "    def __init__(self, servDist):\n",
    "        self.servDist = servDist\n",
    "        self.number_of_customers = 0\n",
    "    \n",
    "    def __len__(self):\n",
    "        return self.number_of_customers\n",
    "    "
   ]
  },
  {
   "cell_type": "code",
   "execution_count": 214,
   "metadata": {},
   "outputs": [],
   "source": [
    "class SimulationResults:\n",
    "\n",
    "    def __init__(self):\n",
    "        self.results = {}\n",
    "        self.number_of_arrivals = {'high': 0, 'low': 0}\n",
    "        self.number_of_arrivals_waiting = {'high': 0, 'low': 0}\n",
    "        self.meanNeedyQueueLength = 0\n",
    "        self.total_needy_queue_length = 0\n",
    "        self.number_in_system = {'N': [], 't': []}\n",
    "        self.sojournTimeList = []\n",
    "        self.totalTimeInSystemList = []\n",
    "        self.totalTimeInSystemBurnInList = [] \n",
    "        self.needyWaitingTimeList = []\n",
    "        self.holdingTimeList = {'high_priority': [],\n",
    "                                'low_priority': []}\n",
    "\n",
    "    def registerHoldingTime(self, holdingTime, priority):\n",
    "        if priority == 'high':\n",
    "            self.holdingTimeList['high_priority'].append(holdingTime)\n",
    "        else:\n",
    "            self.holdingTimeList['low_priority'].append(holdingTime)\n",
    "            \n",
    "          \n",
    "\n",
    "    def registerSojournTime(self, sojournTime):\n",
    "        self.sojournTimeList.append(sojournTime)\n",
    "        \n",
    "    def registerSojournTimeWithBurnIn(self, sojournTime):\n",
    "        self.sojournTimeListWithBurnIn.append(sojournTime)\n",
    "\n",
    "    def registerNeedyWaitingTime(self, needyWaitingTime):\n",
    "        self.needyWaitingTimeList.append(needyWaitingTime)\n",
    "\n",
    "    def registerArrival(self, priority, waiting=False):\n",
    "        self.number_of_arrivals[priority] += 1\n",
    "\n",
    "        if waiting:\n",
    "            self.number_of_arrivals_waiting[priority] += 1\n",
    "    \n",
    "    def registerNumberInSystem(self, N, time):\n",
    "        self.number_in_system['N'].append(N)\n",
    "        self.number_in_system['t'].append(time)\n",
    "    \n",
    "    def registerNeedyQueueLength(self, length):\n",
    "        self.total_needy_queue_length += length\n",
    "\n",
    "    def updateMeanNeedyQueueLength(self, t, t0, queue_needy, finalise=False):\n",
    "        if finalise:\n",
    "            self.meanNeedyQueueLength /= t\n",
    "        else:\n",
    "            # We add to the sum as on Slide 15 of Week 8.\n",
    "            self.meanNeedyQueueLength += (len(queue_needy) * (t - t0))\n",
    "        \n",
    "    def getMeanSojournTime(self):\n",
    "        return np.mean(self.sojournTimeList)\n",
    "\n",
    "    def getMeanWaitingTime(self):\n",
    "        return np.mean(self.needyWaitingTimeList)\n",
    "    \n",
    "    def calculateBlockingProbability(self):\n",
    "        # number of arrivals that have to wait in holding / total number of arrivals\n",
    "\n",
    "        self.results['blocking_probability'] = \\\n",
    "            {priority: self.number_of_arrivals_waiting[priority] / self.number_of_arrivals[priority]\n",
    "             for priority in ('high', 'low')}\n",
    "        self.results['blocking_probability']['total'] = \\\n",
    "            sum(self.number_of_arrivals_waiting.values()) / sum(self.number_of_arrivals.values())\n",
    "            \n",
    "    def getCustomerSojournTime(self):\n",
    "        return self.sojournTimeListWithBurnIn\n",
    "    \n",
    "    def registerTotalTimeInSystem(self, totalTimeInSystem):\n",
    "        self.totalTimeInSystemList.append(totalTimeInSystem)\n",
    "        \n",
    "    def getTotalTimeInSystem(self):\n",
    "        return self.totalTimeInSystemList\n",
    "    \n",
    "    def registerTotalTimeInSystemBurnIn(self, totalTimeInSystemBurnIn):\n",
    "        self.totalTimeInSystemBurnInList.append(totalTimeInSystemBurnIn)\n",
    "        \n",
    "    def getTotalTimeInSystemBurnIn(self):\n",
    "        return self.totalTimeInSystemBurnInList\n",
    "        "
   ]
  },
  {
   "cell_type": "code",
   "execution_count": 215,
   "metadata": {},
   "outputs": [],
   "source": [
    "class Network:\n",
    "    \n",
    "    def __init__(self, lambda_L, lambda_H, servDist_needy, nrServers, servDist_content, N, p, mu=1):\n",
    "        self.arrDist = stats.expon(scale=1/(lambda_L+lambda_H))\n",
    "        self.high_priority_probability = lambda_H/(lambda_L+lambda_H) # probability for high\n",
    "        self.N = N\n",
    "        self.p = p\n",
    "        self.nrServers = nrServers\n",
    "        \n",
    "        # Check stability\n",
    "        if lambda_L + lambda_H > nrServers*mu*(1-p):\n",
    "            print(\"WARNING: This system is not stable. Take caution c:\")\n",
    "        \n",
    "        # Create servers\n",
    "        self.NeedyServer = NeedyServer(servDist_needy, nrServers)\n",
    "        self.ContentServer = ContentServer(servDist_content)\n",
    "        self.simresults = SimulationResults()\n",
    "        \n",
    "    def simulate(self, T, burn_in_period=None):\n",
    "        \n",
    "        # If burn-in period is not specified, take 10% of T, rounded down\n",
    "        if burn_in_period is None:\n",
    "            burn_in_period = T // 10\n",
    "        \n",
    "        t0 = 0   # initial ti-1 for calculating mean needy queue\n",
    "        t = 0 # initialise time\n",
    "        total_needy_queue = 0\n",
    "        \n",
    "        fes = FES() \n",
    "        \n",
    "        queue_holding_high = deque() # the holding queue for high priority\n",
    "        queue_holding_low = deque()  # the holding queue for low priority\n",
    "        queue_needy = deque()        # the queue for needy server\n",
    "        res = SimulationResults()\n",
    "        \n",
    "        # Generate arrival of the first customer\n",
    "        u = stats.uniform().rvs()\n",
    "        \n",
    "        if u < self.high_priority_probability:\n",
    "            c0 = Customer(self.arrDist.rvs(), priority='high')\n",
    "            \n",
    "        else:\n",
    "            c0 = Customer(self.arrDist.rvs(), priority='low')\n",
    "            \n",
    "        firstEvent = Event(Event.ARRIVAL, c0.arrivalTime, c0)\n",
    "        fes.add(firstEvent) # schedule first arrival event\n",
    "        \n",
    "        while t < T:\n",
    "            burn_in = (t < burn_in_period)\n",
    "            \n",
    "            e = fes.next()                      # jump to next event\n",
    "            t = e.time                          # update the time\n",
    "            c1 = e.customer                     # customer associated with this event\n",
    "            \n",
    "            number_in_system = len(queue_needy) + len(self.NeedyServer) + len(self.ContentServer)\n",
    "            self.simresults.registerNumberInSystem(number_in_system, t)\n",
    "            \n",
    "            if not burn_in:\n",
    "                # Add the inner part of the sum on Week 8, Slide 15\n",
    "                self.simresults.updateMeanNeedyQueueLength(t, t0, queue_needy)\n",
    "                t0 = t # Update t_i-1 to t_i\n",
    "                \n",
    "                # Update total number of people that had to wait in the needy queue\n",
    "                self.simresults.registerNeedyQueueLength(length=len(queue_needy))\n",
    "\n",
    "            if e.type == 'ARRIVAL':\n",
    "                \n",
    "                if c1.location == 'holding':\n",
    "                    \n",
    "                    # Someone arrive\n",
    "                    if number_in_system < self.N:\n",
    "                        c1.enterClosedSystem(t)\n",
    "                        # Admit this customer\n",
    "                        if len(self.NeedyServer) < self.NeedyServer.nrServers:\n",
    "                            # Admit this customer\n",
    "                            serviceTime = self.NeedyServer.servDist.rvs()\n",
    "                            c1.moveTo('needy', t, serviceTime)\n",
    "                            \n",
    "                            # Update number of customers at needy server\n",
    "                            self.NeedyServer.number_of_customers += 1\n",
    "                            \n",
    "                            dep = Event(Event.DEPARTURE, t + serviceTime, c1)\n",
    "                            fes.add(dep)\n",
    "\n",
    "                        else:\n",
    "                            # Queue in needy, independent of priority\n",
    "                            queue_needy.append(c1)\n",
    "                            c1.moveTo('queue_needy', t, _)\n",
    "\n",
    "                        if not burn_in:\n",
    "                            self.simresults.registerArrival(priority=c1.priority)\n",
    "                            \n",
    "                    else:\n",
    "                        # else: add to holding queue\n",
    "                        if c1.priority == 'high':\n",
    "                            queue_holding_high.append(c1)\n",
    "                        else:\n",
    "                            queue_holding_low.append(c1)\n",
    "                            \n",
    "                        if not burn_in:\n",
    "                            self.simresults.registerArrival(priority=c1.priority, waiting=True)\n",
    "\n",
    "                    # Schedule new arrival\n",
    "                    u = stats.uniform().rvs()\n",
    "\n",
    "                    if u < self.high_priority_probability:\n",
    "                        c2 = Customer(t + self.arrDist.rvs(), priority='high')\n",
    "                    else:\n",
    "                        c2 = Customer(t + self.arrDist.rvs(), priority='low')\n",
    "\n",
    "                    arrival = Event(Event.ARRIVAL, c2.arrivalTime, c2)\n",
    "                    fes.add(arrival)\n",
    "                else:\n",
    "                    raise Exception(\"ERROR: Arrival from\", c1.location)\n",
    "                \n",
    "            elif e.type == 'DEPARTURE':\n",
    "                # Then it's a departure\n",
    "                # Check if departed from needy or from content\n",
    "                if c1.location == 'content':\n",
    "                    \n",
    "                    # Update number of customers at needy server\n",
    "                    self.ContentServer.number_of_customers -= 1\n",
    "                    \n",
    "                    if len(self.NeedyServer) < self.NeedyServer.nrServers:\n",
    "                        serviceTime = self.NeedyServer.servDist.rvs()\n",
    "                        c1.moveTo('needy', t, serviceTime)\n",
    "                        \n",
    "                        # Update number of customers at needy server\n",
    "                        self.NeedyServer.number_of_customers += 1\n",
    "                        \n",
    "                        dep = Event(Event.DEPARTURE, t + serviceTime, c1)\n",
    "                        fes.add(dep)\n",
    "                    else:\n",
    "                        queue_needy.append(c1)\n",
    "                        c1.moveTo('queue_needy', t, _)\n",
    "                        \n",
    "                elif c1.location == 'needy':\n",
    "                    # Update number of customers at needy server - someone leaves\n",
    "                    self.NeedyServer.number_of_customers -= 1\n",
    "                    \n",
    "                    # Admit person from needy queue, if nonempty\n",
    "                    if len(queue_needy) > 0:\n",
    "                        c2 = queue_needy.popleft()\n",
    "                        \n",
    "                        if not burn_in:\n",
    "                            self.simresults.registerNeedyWaitingTime(t - c2.needyQueueArrivalTime)\n",
    "                        \n",
    "                        serviceTime = self.NeedyServer.servDist.rvs()\n",
    "                        c2.moveTo('needy', t, serviceTime)\n",
    "\n",
    "                        # Update number of customers at needy server\n",
    "                        self.NeedyServer.number_of_customers += 1\n",
    "\n",
    "                        dep = Event(Event.DEPARTURE, t + serviceTime, c2)\n",
    "                        fes.add(dep)\n",
    "                    \n",
    "                    # Check if leaves or goes to content\n",
    "                    u = stats.uniform().rvs()\n",
    "\n",
    "                    if u < self.p:\n",
    "                        # Go to content\n",
    "                        serviceTime = self.ContentServer.servDist.rvs()\n",
    "                        c1.moveTo('content', t, serviceTime)\n",
    "                        \n",
    "                        # Update number of customers at needy server\n",
    "                        self.ContentServer.number_of_customers += 1\n",
    "                        \n",
    "                        dep = Event(Event.DEPARTURE, t + serviceTime, c1)\n",
    "                        fes.add(dep)\n",
    "                        \n",
    "                    else:\n",
    "                        # Leave system\n",
    "                        # Set c1.location to 'out', c1.serviceTime to -1, and calculate sojourn time\n",
    "                        c1.leaveSystem(t) \n",
    "\n",
    "                        self.simresults.registerTotalTimeInSystemBurnIn(t-c1.systemArrivalTime)\n",
    "                        \n",
    "                        if not burn_in:\n",
    "                            self.simresults.registerSojournTime(c1.sojournTime)\n",
    "                            self.simresults.registerTotalTimeInSystem(t-c1.systemArrivalTime)\n",
    "                        \n",
    "                        # Admit someone from holding queue\n",
    "                        if len(queue_holding_high) > 0:\n",
    "                            c2 = queue_holding_high.popleft()\n",
    "                            c2.enterClosedSystem(t)\n",
    "                            \n",
    "                            # Note that we only enter here if a person is admitted from the holding queue\n",
    "                            if len(self.NeedyServer) < self.NeedyServer.nrServers:\n",
    "                                serviceTime = self.NeedyServer.servDist.rvs()\n",
    "                                c2.moveTo('needy', t, serviceTime)\n",
    "\n",
    "                                # Update number of customers at needy server\n",
    "                                self.NeedyServer.number_of_customers += 1\n",
    "\n",
    "                                dep = Event(Event.DEPARTURE, t + serviceTime, c2)\n",
    "                                fes.add(dep)\n",
    "                            else:\n",
    "                                queue_needy.append(c2)\n",
    "                                c2.moveTo('queue_needy', t, _)\n",
    "                                \n",
    "                            if not burn_in:\n",
    "                                self.simresults.registerHoldingTime(c2.needyArrivalTime - c2.systemArrivalTime,\n",
    "                                                                    c2.priority)\n",
    "                            \n",
    "                        elif len(queue_holding_low) > 0:\n",
    "                            c2 = queue_holding_low.popleft()\n",
    "                            c2.enterClosedSystem(t)\n",
    "                            \n",
    "                            # Note that we only enter here if a person is admitted from the holding queue\n",
    "                            if len(self.NeedyServer) < self.NeedyServer.nrServers:\n",
    "                                serviceTime = self.NeedyServer.servDist.rvs()\n",
    "                                c2.moveTo('needy', t, serviceTime)\n",
    "\n",
    "                                # Update number of customers at needy server\n",
    "                                self.NeedyServer.number_of_customers += 1\n",
    "\n",
    "                                dep = Event(Event.DEPARTURE, t + serviceTime, c2)\n",
    "                                fes.add(dep)\n",
    "                            else:\n",
    "                                queue_needy.append(c2)\n",
    "                                c2.moveTo('queue_needy', t, _)\n",
    "                                \n",
    "                            if not burn_in:\n",
    "                                self.simresults.registerHoldingTime(c2.enterClosedSystemTime - c2.systemArrivalTime,\n",
    "                                                                    c2.priority)\n",
    "                        else:\n",
    "                            pass\n",
    "                        \n",
    "                        \n",
    "                else:\n",
    "                    raise Exception(\"ERROR: Departure from\", c1.location)\n",
    "        \n",
    "        self.simresults.updateMeanNeedyQueueLength(t, _, _, finalise=True)\n",
    "        \n",
    "        return None"
   ]
  },
  {
   "cell_type": "code",
   "execution_count": 327,
   "metadata": {},
   "outputs": [],
   "source": [
    "np.random.seed(1)\n",
    "T = 10000\n",
    "\n",
    "# Initialise arguments (benchmark case)\n",
    "lambda_L = 0.5\n",
    "lambda_H = 0.25\n",
    "nrServers = 2\n",
    "mu = 1\n",
    "p = 0.4\n",
    "delta = 1\n",
    "N = 5\n",
    "\n",
    "servDist_needy = stats.expon(scale=float(1/mu))\n",
    "servDist_content = stats.expon(scale=float(1/delta))"
   ]
  },
  {
   "cell_type": "code",
   "execution_count": 223,
   "metadata": {},
   "outputs": [],
   "source": [
    "sim = Network(lambda_L, lambda_H, servDist_needy, nrServers,\n",
    "              servDist_content, N, p)\n",
    "sim.simulate(T)\n"
   ]
  },
  {
   "cell_type": "code",
   "execution_count": 230,
   "metadata": {},
   "outputs": [
    {
     "data": {
      "image/png": "[encoded data removed]",
      "text/plain": [
       "<matplotlib.figure.Figure at 0x1cd825206a0>"
      ]
     },
     "metadata": {},
     "output_type": "display_data"
    }
   ],
   "source": [
    "# Determine burn in period with average sojourn time in system\n",
    "\n",
    "\n",
    "t_runs = 200\n",
    "averageTimeInSystem = np.zeros(t_runs)\n",
    "t_run_spacing = np.linspace(10,2000,t_runs)\n",
    "\n",
    "for t in range(t_runs):\n",
    "    sim = Network(lambda_L, lambda_H, servDist_needy, nrServers,\n",
    "              servDist_content, N, p)    \n",
    "    sim.simulate(t_run_spacing[t])\n",
    "    averageTimeInSystem[t] = np.mean(sim.simresults.totalTimeInSystemBurnInList)\n",
    "     \n",
    "\n",
    "plt.plot(t_run_spacing,averageTimeInSystem, color='#de5285')\n",
    "plt.xlabel(\"Time\")\n",
    "plt.ylabel(\"Mean time in system\")\n",
    "plt.show()\n"
   ]
  },
  {
   "cell_type": "markdown",
   "metadata": {},
   "source": [
    "## Exercise c.\n",
    "Use your discrete-event simulation to present performance measures (perhaps probability of blocking for the different customer priority classes, probability of waiting, mean queue length, mean waiting time,...) for the extended system for different values of $\\lambda_L$, $\\lambda_H$, and $\\delta$, and different values of $N$. Elaborate on your findings by creating a comprehensive management report including several sensitivity analyses."
   ]
  },
  {
   "cell_type": "code",
   "execution_count": 328,
   "metadata": {},
   "outputs": [],
   "source": [
    "np.random.seed(1)\n",
    "sim = Network(lambda_L, lambda_H, servDist_needy, nrServers,\n",
    "              servDist_content, N, p)\n",
    "\n",
    "sim.simulate(T)\n"
   ]
  },
  {
   "cell_type": "code",
   "execution_count": 329,
   "metadata": {
    "scrolled": true
   },
   "outputs": [
    {
     "name": "stdout",
     "output_type": "stream",
     "text": [
      "Blocking Probability: {'high': 0.14993592481845366, 'low': 0.14314652261985145, 'total': 0.14548938679245282} \n",
      "\n",
      "Mean Needy Queue Length: 0.4896224667870534\n",
      "Mean Needy Queue Waiting Time: 0.9299246754133755 \n",
      "\n",
      "351 high priority customers had to wait in the holding queue for a mean time of 1.1151683419164093\n",
      "636 high priority customers had to wait in the holding queue for a mean time of 2.8802931478203253\n",
      "\n",
      "Mean Sojourn Time: 3.051256207625729\n"
     ]
    }
   ],
   "source": [
    "sim.simresults.calculateBlockingProbability()\n",
    "print(f\"Blocking Probability: {sim.simresults.results['blocking_probability']} \\n\")\n",
    "\n",
    "print(f\"Mean Needy Queue Length: {sim.simresults.meanNeedyQueueLength}\")\n",
    "print(f\"Mean Needy Queue Waiting Time: {sim.simresults.getMeanWaitingTime()} \\n\")\n",
    "\n",
    "for ht in sim.simresults.holdingTimeList.values():\n",
    "    print(f\"{len(ht)} high priority customers had to wait in the holding queue \"\n",
    "          f\"for a mean time of {np.mean(ht)}\")\n",
    "    \n",
    "print(f\"\\nMean Sojourn Time: {sim.simresults.getMeanSojournTime()}\")"
   ]
  },
  {
   "cell_type": "code",
   "execution_count": 330,
   "metadata": {
    "scrolled": false
   },
   "outputs": [
    {
     "data": {
      "image/png": "[encoded data removed]",
      "text/plain": [
       "<matplotlib.figure.Figure at 0x1cd82520668>"
      ]
     },
     "metadata": {},
     "output_type": "display_data"
    },
    {
     "name": "stdout",
     "output_type": "stream",
     "text": [
      "The mean waiting time for is equal to 1.1151683419164093\n"
     ]
    }
   ],
   "source": [
    "sns.distplot(sim.simresults.holdingTimeList['high_priority'], color='#de5285')\n",
    "plt.xlabel(\"Holding queue waiting time high priority\")\n",
    "plt.ylabel(\"Frequency\")\n",
    "plt.show()\n",
    "\n",
    "print(\"The mean waiting time for is equal to\", np.mean(sim.simresults.holdingTimeList['high_priority']))"
   ]
  },
  {
   "cell_type": "code",
   "execution_count": 331,
   "metadata": {},
   "outputs": [
    {
     "data": {
      "image/png": "[encoded data removed]",
      "text/plain": [
       "<matplotlib.figure.Figure at 0x1cd82dcf4a8>"
      ]
     },
     "metadata": {},
     "output_type": "display_data"
    },
    {
     "name": "stdout",
     "output_type": "stream",
     "text": [
      "The mean waiting time is equal to 2.8802931478203253\n"
     ]
    }
   ],
   "source": [
    "sns.distplot(sim.simresults.holdingTimeList['low_priority'], color='#de5285')\n",
    "plt.xlabel(\"Holding queue waiting time low priority\")\n",
    "plt.ylabel(\"Frequency\")\n",
    "plt.show()\n",
    "\n",
    "print(\"The mean waiting time is equal to\", np.mean(sim.simresults.holdingTimeList['low_priority']))"
   ]
  },
  {
   "cell_type": "code",
   "execution_count": 332,
   "metadata": {},
   "outputs": [
    {
     "data": {
      "image/png": "[encoded data removed]",
      "text/plain": [
       "<matplotlib.figure.Figure at 0x1cd82c5feb8>"
      ]
     },
     "metadata": {},
     "output_type": "display_data"
    },
    {
     "name": "stdout",
     "output_type": "stream",
     "text": [
      "The mean waiting time is equal to 0.9299246754133755\n"
     ]
    }
   ],
   "source": [
    "sns.distplot(sim.simresults.needyWaitingTimeList, color='#de5285')\n",
    "plt.xlabel(\"Needy queue waiting time\")\n",
    "plt.ylabel(\"Frequency\")\n",
    "plt.show()\n",
    "\n",
    "print(\"The mean waiting time is equal to\", np.mean(sim.simresults.needyWaitingTimeList))"
   ]
  },
  {
   "cell_type": "markdown",
   "metadata": {},
   "source": [
    "#### Blocking probability changing $\\lambda$ "
   ]
  },
  {
   "cell_type": "code",
   "execution_count": 241,
   "metadata": {
    "scrolled": true
   },
   "outputs": [],
   "source": [
    "#changing lambda L (and thus fix lambda H)\n",
    "np.random.seed(1)\n",
    "runs = 30\n",
    "T = 10000\n",
    "\n",
    "# Specify which values for lambda_L to test\n",
    "lambda_H_temp = 1/100\n",
    "lambda_L_array = np.linspace(lambda_H_temp, (1-p)*nrServers*mu-lambda_H_temp, runs)\n",
    "lambda_L_temp = lambda_L\n",
    "\n",
    "probabilities_total = np.zeros(runs)\n",
    "probabilities_high = np.zeros(runs)\n",
    "probabilities_low = np.zeros(runs)\n",
    "\n",
    "for i in range(runs):\n",
    "    lambda_L = lambda_L_array[i]\n",
    "    sim = Network(lambda_L, lambda_H_temp, servDist_needy, nrServers,\n",
    "                  servDist_content, N, p)\n",
    "    sim.simulate(T)\n",
    "    sim.simresults.calculateBlockingProbability()\n",
    "    \n",
    "    if verbose:\n",
    "        # verbose is specified as a Boolean at the top of this file. If True, print this, else do not.\n",
    "        print(\"Probability for lambda_L equal to\", lambda_L)\n",
    "        print(\"Blocking probability:\", sim.simresults.results['blocking_probability'])\n",
    "        print(\"\")\n",
    "    \n",
    "    probabilities_total[i] = sim.simresults.results['blocking_probability']['total']\n",
    "    probabilities_high[i] = sim.simresults.results['blocking_probability']['high']\n",
    "    probabilities_low[i] = sim.simresults.results['blocking_probability']['low']\n",
    "    \n",
    "# Reset lambda_L\n",
    "lambda_L = lambda_L_temp"
   ]
  },
  {
   "cell_type": "code",
   "execution_count": 243,
   "metadata": {},
   "outputs": [
    {
     "data": {
      "image/png": "[encoded data removed]",
      "text/plain": [
       "<matplotlib.figure.Figure at 0x1cd827986a0>"
      ]
     },
     "metadata": {},
     "output_type": "display_data"
    }
   ],
   "source": [
    "plt.plot(lambda_L_array+lambda_H_temp, probabilities_total, marker='o', color='#de5285')\n",
    "\n",
    "plt.xlabel('$\\lambda_{total}$')\n",
    "plt.ylabel('Blocking probability')\n",
    "plt.show()"
   ]
  },
  {
   "cell_type": "markdown",
   "metadata": {},
   "source": [
    "#### Blocking probability changing $\\delta$ "
   ]
  },
  {
   "cell_type": "code",
   "execution_count": null,
   "metadata": {
    "scrolled": true
   },
   "outputs": [],
   "source": [
    "#changing lambda H (and thus fix lambda_L)\n",
    "np.random.seed(1)\n",
    "\n",
    "# Specify which values for lambda_H to test\n",
    "smooth_range = 5\n",
    "\n",
    "delta_temp = delta\n",
    "delta_array = np.linspace(1, 4*nrServers*mu, runs)\n",
    "\n",
    "probabilities_total = np.zeros(runs)\n",
    "probabilities_high = np.zeros(runs)\n",
    "probabilities_low = np.zeros(runs)\n",
    "\n",
    "probs = {key: [] for key in delta_array}\n",
    "\n",
    "for j in range(smooth_range):\n",
    "    for i in range(runs):\n",
    "        delta = delta_array[i]\n",
    "        servDist_content = stats.expon(scale=float(1/delta))\n",
    "\n",
    "        sim = Network(lambda_L, lambda_H, servDist_needy, nrServers,\n",
    "                      servDist_content, N, p)\n",
    "        sim.simulate(T)\n",
    "        sim.simresults.calculateBlockingProbability()\n",
    "\n",
    "        if verbose:\n",
    "            # verbose is specified as a Boolean at the top of this file. If True, print this, else do not.\n",
    "            print(\"Probability for delta equal to\", delta)\n",
    "            print(\"Blocking probability:\", sim.simresults.results['blocking_probability'])\n",
    "            print(\"\")\n",
    "\n",
    "        probabilities_total[i] = sim.simresults.results['blocking_probability']['total']\n",
    "        probabilities_high[i] = sim.simresults.results['blocking_probability']['high']\n",
    "        probabilities_low[i] = sim.simresults.results['blocking_probability']['low']\n",
    "    \n",
    "        probs[delta].append(sim.simresults.results['blocking_probability']['total'])\n",
    "    \n",
    "# Reset to original values\n",
    "delta = delta_temp\n",
    "servDist_content = stats.expon(scale=float(1/delta))"
   ]
  },
  {
   "cell_type": "code",
   "execution_count": null,
   "metadata": {},
   "outputs": [],
   "source": [
    "plt.plot(delta_array, list([np.mean(probs[x]) for x in probs]), marker='o', color='#de5285', label=\"Total\")\n",
    "\n",
    "plt.xlabel('$\\delta$')\n",
    "plt.ylabel('Blocking probability')\n",
    "plt.show()"
   ]
  },
  {
   "cell_type": "code",
   "execution_count": null,
   "metadata": {},
   "outputs": [],
   "source": [
    "plt.plot(delta_array, probabilities_total, marker='o', color='#de5285', label=\"Total\")\n",
    "\n",
    "plt.xlabel('$\\delta$')\n",
    "plt.ylabel('Blocking probability')\n",
    "plt.show()"
   ]
  },
  {
   "cell_type": "markdown",
   "metadata": {},
   "source": [
    "#### Needy queue length changing $p$"
   ]
  },
  {
   "cell_type": "code",
   "execution_count": null,
   "metadata": {},
   "outputs": [],
   "source": [
    "# Changing p (comparing the needy queue length)\n",
    "np.random.seed(1)\n",
    "\n",
    "p_temp = p\n",
    "p_array = np.linspace(0.01, 0.99, runs)\n",
    "mean_queue_length = np.zeros(runs)\n",
    "\n",
    "for i in range(runs):\n",
    "    p = p_array[i]\n",
    "    sim = Network(lambda_L, lambda_H, servDist_needy, nrServers,\n",
    "                  servDist_content, N, p)\n",
    "    sim.simulate(T)\n",
    "    \n",
    "    mean_needy = sim.simresults.meanNeedyQueueLength\n",
    "    \n",
    "    if verbose:\n",
    "        print(\"Probability of not leaving system equal to\", p)\n",
    "        print(\"Mean queue length: \", mean_needy)\n",
    "        print(\"\")\n",
    "    \n",
    "    mean_queue_length[i] = mean_needy\n",
    "    \n",
    "p = p_temp"
   ]
  },
  {
   "cell_type": "code",
   "execution_count": null,
   "metadata": {},
   "outputs": [],
   "source": [
    "plt.plot(p_array, mean_queue_length, marker='o', color='#de5285')\n",
    "plt.xlabel('$p$')\n",
    "plt.ylabel('Mean needy queue length')\n",
    "plt.show()"
   ]
  },
  {
   "cell_type": "markdown",
   "metadata": {},
   "source": [
    "#### Mean needy queue length changing $N$"
   ]
  },
  {
   "cell_type": "code",
   "execution_count": null,
   "metadata": {
    "scrolled": true
   },
   "outputs": [],
   "source": [
    "# Changing N (comparing the needy queue length)\n",
    "np.random.seed(1)\n",
    "\n",
    "N_temp = N\n",
    "\n",
    "# Specify which values for N to test\n",
    "N_array = np.linspace(5, 1000, runs)\n",
    "mean_queue_length = np.zeros(runs)\n",
    "\n",
    "for i in range(runs):\n",
    "    N = N_array[i]\n",
    "    sim = Network(lambda_L, lambda_H, servDist_needy, nrServers,\n",
    "                  servDist_content, N, p)  #change lambda here\n",
    "    sim.simulate(T)\n",
    "        \n",
    "    mean_needy = sim.simresults.meanNeedyQueueLength\n",
    "\n",
    "    if verbose:\n",
    "        # verbose is specified as a Boolean at the top of this file. If True, print this, else do not.\n",
    "        print(f\"N={N} - Mean queue length = {mean_needy}\")\n",
    "        print(\"\")\n",
    "    \n",
    "    mean_queue_length[i] = mean_needy\n",
    "\n",
    "N = N_temp"
   ]
  },
  {
   "cell_type": "code",
   "execution_count": null,
   "metadata": {},
   "outputs": [],
   "source": [
    "plt.plot(N_array, mean_queue_length, marker='o', color='#de5285')\n",
    "plt.xlabel('$N$')\n",
    "plt.ylabel('Mean Needy queue length')\n",
    "plt.show()"
   ]
  },
  {
   "cell_type": "code",
   "execution_count": null,
   "metadata": {},
   "outputs": [],
   "source": [
    "# Changing N (comparing the mean sojourn time)\n",
    "np.random.seed(1)\n",
    "\n",
    "N_temp = N\n",
    "\n",
    "# Specify which values for N to test\n",
    "N_array = np.linspace(5, 1000, runs)\n",
    "mean_sojourn_length = np.zeros(runs)\n",
    "\n",
    "for i in range(runs):\n",
    "    N = N_array[i]\n",
    "    sim = Network(lambda_L, lambda_H, servDist_needy, nrServers,\n",
    "                  servDist_content, N, p)  \n",
    "    sim.simulate(T)\n",
    "        \n",
    "    mean_sojourn = np.mean(sim.simresults.sojournTimeList)\n",
    "\n",
    "    if verbose:\n",
    "        # verbose is specified as a Boolean at the top of this file. If True, print this, else do not.\n",
    "        print(f\"N={N} - Mean sojourn time = {mean_sojourn}\")\n",
    "        print(\"\")\n",
    "    \n",
    "    mean_sojourn_length[i] = mean_sojourn\n",
    "\n",
    "N = N_temp"
   ]
  },
  {
   "cell_type": "code",
   "execution_count": null,
   "metadata": {},
   "outputs": [],
   "source": [
    "# Changing p (comparing the mean sojourn time)\n",
    "np.random.seed(1)\n",
    "\n",
    "p_temp = p\n",
    "\n",
    "# Specify which values for N to test\n",
    "p_array = np.linspace(0.01, 0.8, runs)\n",
    "mean_sojourn_length = np.zeros(runs)\n",
    "\n",
    "for i in range(runs):\n",
    "    p = p_array[i]\n",
    "    sim = Network(lambda_L, lambda_H, servDist_needy, nrServers,\n",
    "                  servDist_content, N, p)  \n",
    "    sim.simulate(T)\n",
    "        \n",
    "    mean_sojourn = np.mean(sim.simresults.sojournTimeList)\n",
    "\n",
    "    if verbose:\n",
    "        # verbose is specified as a Boolean at the top of this file. If True, print this, else do not.\n",
    "        print(f\"p={p} - Mean sojourn time = {mean_sojourn}\")\n",
    "        print(\"\")\n",
    "    \n",
    "    mean_sojourn_length[i] = mean_sojourn\n",
    "\n",
    "p = p_temp"
   ]
  },
  {
   "cell_type": "code",
   "execution_count": null,
   "metadata": {},
   "outputs": [],
   "source": [
    "plt.plot(p_array, mean_sojourn_length, marker='o', color='#de5285')\n",
    "plt.xlabel('$p$')\n",
    "plt.ylabel('Mean sojourn time')\n",
    "plt.show()"
   ]
  },
  {
   "cell_type": "markdown",
   "metadata": {},
   "source": [
    "#### Mean queue length as $\\delta$ changes"
   ]
  },
  {
   "cell_type": "code",
   "execution_count": 261,
   "metadata": {},
   "outputs": [],
   "source": [
    "# Changing p (comparing the needy queue length)\n",
    "np.random.seed(1)\n",
    "runs = 30\n",
    "\n",
    "delta_temp = delta\n",
    "delta_array = np.linspace(1, 4*nrServers*mu, runs)\n",
    "\n",
    "mean_queue_length_delta = np.zeros(runs)\n",
    "\n",
    "for i in range(runs):\n",
    "    delta = delta_array[i]\n",
    "    servDist_content = stats.expon(scale=float(1/delta))\n",
    "        \n",
    "    sim = Network(lambda_L, lambda_H, servDist_needy, nrServers,\n",
    "                  servDist_content, N, p)\n",
    "    sim.simulate(T)\n",
    "    \n",
    "    mean_needy = sim.simresults.meanNeedyQueueLength\n",
    "    \n",
    "    if verbose:\n",
    "        print(\"Probability of not leaving system equal to\", p)\n",
    "        print(\"Mean queue length: \", mean_needy)\n",
    "        print(\"\")\n",
    "    \n",
    "    mean_queue_length_delta[i] = mean_needy\n",
    "    \n",
    "delta = delta_temp"
   ]
  },
  {
   "cell_type": "code",
   "execution_count": 262,
   "metadata": {},
   "outputs": [
    {
     "data": {
      "image/png": "[encoded data removed]",
      "text/plain": [
       "<matplotlib.figure.Figure at 0x1cd82753898>"
      ]
     },
     "metadata": {},
     "output_type": "display_data"
    }
   ],
   "source": [
    "plt.plot(delta_array, mean_queue_length_delta, marker='o', color='#de5285')\n",
    "plt.xlabel('$delta$')\n",
    "plt.ylabel('Mean needy queue length as $\\delta$ changes')\n",
    "plt.show()"
   ]
  },
  {
   "cell_type": "markdown",
   "metadata": {},
   "source": [
    "## Exercise d.\n",
    "Investigate the difference in performance between the original system ($N = 1$) and the extended system (finite $N$). For instance, how fast does the behavior of the extended system mimic the original system behavior as $N$ increases?"
   ]
  },
  {
   "cell_type": "markdown",
   "metadata": {},
   "source": [
    "#### Mean total time in system as $N$ increases"
   ]
  },
  {
   "cell_type": "code",
   "execution_count": 340,
   "metadata": {},
   "outputs": [
    {
     "name": "stderr",
     "output_type": "stream",
     "text": [
      "C:\\Users\\martijn\\Anaconda3\\lib\\site-packages\\numpy\\core\\fromnumeric.py:2957: RuntimeWarning: Mean of empty slice.\n",
      "  out=out, **kwargs)\n",
      "C:\\Users\\martijn\\Anaconda3\\lib\\site-packages\\numpy\\core\\_methods.py:80: RuntimeWarning: invalid value encountered in double_scalars\n",
      "  ret = ret.dtype.type(ret / rcount)\n"
     ]
    }
   ],
   "source": [
    "# Changing N (comparing the mean sojourn time)\n",
    "np.random.seed(1)\n",
    "\n",
    "N_temp = N\n",
    "\n",
    "runs = 21\n",
    "\n",
    "# Specify which values for N to test\n",
    "N_array = np.linspace(1, runs, runs)\n",
    "meanHoldingQueueWaitingLow = np.zeros(runs)\n",
    "meanHoldingQueueWaitingHigh= np.zeros(runs)\n",
    "blockingProbability_N = np.zeros(runs)\n",
    "\n",
    "\n",
    "for i in range(runs):\n",
    "    N = N_array[i]\n",
    "    sim = Network(lambda_L, lambda_H, servDist_needy, nrServers,\n",
    "                  servDist_content, N, p)  \n",
    "    sim.simulate(T)\n",
    "    sim.simresults.calculateBlockingProbability()\n",
    "    \n",
    "    blockingProbability_N[i] = sim.simresults.results['blocking_probability']['total']\n",
    "    \n",
    "       \n",
    "    meanHoldingQueueWaitingLow[i] = np.mean(sim.simresults.holdingTimeList['low_priority'])\n",
    "    meanHoldingQueueWaitingHigh[i] = np.mean(sim.simresults.holdingTimeList['high_priority'])\n",
    "    \n",
    "\n",
    "    \n",
    "\n",
    "N = N_temp"
   ]
  },
  {
   "cell_type": "code",
   "execution_count": 356,
   "metadata": {},
   "outputs": [
    {
     "data": {
      "image/png": "[encoded data removed]",
      "text/plain": [
       "<matplotlib.figure.Figure at 0x1cd82d34518>"
      ]
     },
     "metadata": {},
     "output_type": "display_data"
    },
    {
     "data": {
      "image/png": "[encoded data removed]",
      "text/plain": [
       "<matplotlib.figure.Figure at 0x1cd82667ac8>"
      ]
     },
     "metadata": {},
     "output_type": "display_data"
    },
    {
     "data": {
      "image/png": "[encoded data removed]",
      "text/plain": [
       "<matplotlib.figure.Figure at 0x1cd82bc6978>"
      ]
     },
     "metadata": {},
     "output_type": "display_data"
    }
   ],
   "source": [
    "plt.plot(N_array, blockingProbability_N, marker='o', color='#de5285')\n",
    "plt.xlabel('$N$')\n",
    "plt.ylabel('Blocking probability.')\n",
    "plt.show()\n",
    "\n",
    "meanHoldingQueueWaitingLow[np.isnan(meanHoldingQueueWaitingLow)] = 0\n",
    "\n",
    "plt.plot(N_array[1:runs], meanHoldingQueueWaitingLow[1:runs], marker='o', color='#de5285')\n",
    "plt.xlabel('$N$')\n",
    "plt.ylabel('Mean waiting time in holding queue')\n",
    "plt.show()\n",
    "\n",
    "meanHoldingQueueWaitingHigh[np.isnan(meanHoldingQueueWaitingHigh)] = 0\n",
    "\n",
    "plt.plot(N_array[1:runs], meanHoldingQueueWaitingHigh[1:runs], marker='o', color='#de5285')\n",
    "plt.xlabel('$N$')\n",
    "plt.ylabel('Mean waiting time in holding queue')\n",
    "plt.show()"
   ]
  },
  {
   "cell_type": "code",
   "execution_count": null,
   "metadata": {},
   "outputs": [],
   "source": []
  }
 ],
 "metadata": {
  "kernelspec": {
   "display_name": "Python 3",
   "language": "python",
   "name": "python3"
  },
  "language_info": {
   "codemirror_mode": {
    "name": "ipython",
    "version": 3
   },
   "file_extension": ".py",
   "mimetype": "text/x-python",
   "name": "python",
   "nbconvert_exporter": "python",
   "pygments_lexer": "ipython3",
   "version": "3.6.4"
  }
 },
 "nbformat": 4,
 "nbformat_minor": 2
}
