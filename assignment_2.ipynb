{
 "cells": [
  {
   "cell_type": "markdown",
   "metadata": {},
   "source": [
    "# Decision Making Under Uncertainty - Assignment 2\n",
    "\n",
    "Group 2:\n",
    "- Martijn Ketelaars (ANR: 120975)\n",
    "- Robbie Reyerse (ANR: 109997)\n",
    "- Rosalien Timmerhuis (ANR: 520618)\n",
    "- Mike Weltevrede (ANR: 756479)\n",
    "\n",
    "## Exercise a.\n",
    "Derive the product-form solution for the stationary distribution of this Jackson network and determine the stability conditions (consult Lecture on 30 October)."
   ]
  },
  {
   "cell_type": "code",
   "execution_count": null,
   "metadata": {},
   "outputs": [],
   "source": []
  },
  {
   "cell_type": "markdown",
   "metadata": {},
   "source": [
    "## Exercise b.\n",
    "Write for this extended system a discrete-event simulation. In order to do this, you might need object-oriented programming."
   ]
  },
  {
   "cell_type": "code",
   "execution_count": null,
   "metadata": {},
   "outputs": [],
   "source": [
    "from scipy import stats\n",
    "from dist.Distribution import Distribution\n",
    "\n",
    "import heapq\n",
    "\n",
    "from numpy.ma.core import zeros\n",
    "import matplotlib.pyplot as plt"
   ]
  },
  {
   "cell_type": "code",
   "execution_count": 1,
   "metadata": {},
   "outputs": [],
   "source": [
    "# Suppose one customer\n",
    "# Remember the priorities!\n",
    "\n",
    "class Customer :\n",
    "\n",
    "    def __init__(self, arrivalTime, serviceTime, priority):\n",
    "        self.arrivalTime = arrivalTime\n",
    "        self.serviceTime = serviceTime\n",
    "        self.systemArrivalTime = arrivalTime\n",
    "        self.priority = priority\n",
    "        \n",
    "        # location: holding, needy, content, out\n",
    "        self.location = 'holding'\n",
    "        \n",
    "    def moveTo(self, location, time, newServiceTime):\n",
    "        self.location = location\n",
    "        self.arrivalTime = time\n",
    "        self.serviceTime = newServiceTime\n",
    "        \n",
    "    def leaveSystem(self):\n",
    "        self.location = 'out'\n",
    "        self.serviceTime = -1\n",
    "        "
   ]
  },
  {
   "cell_type": "code",
   "execution_count": 2,
   "metadata": {},
   "outputs": [],
   "source": [
    "class Event:\n",
    "\n",
    "    ARRIVAL = 0\n",
    "    DEPARTURE = 1\n",
    "    \n",
    "    def __init__(self, typ, time, cust): \n",
    "        self.type = typ\n",
    "        self.time = time\n",
    "        self.customer = cust\n",
    "        \n",
    "    def __str__(self):\n",
    "        s = ('Arrival', 'Departure')\n",
    "        return s[self.type] + \" of customer \" + str(self.customer)\n",
    "        + ' at t = ' + str(self.time)\n"
   ]
  },
  {
   "cell_type": "code",
   "execution_count": null,
   "metadata": {},
   "outputs": [],
   "source": [
    "class FES :\n",
    "    \n",
    "    def __init__(self):\n",
    "        self.events = []\n",
    "        \n",
    "    def add(self, event):\n",
    "        heapq.heappush(self.events, event)\n",
    "        \n",
    "    def next(self):\n",
    "        return heapq.heappop(self.events)\n",
    "    \n",
    "    def isEmpty(self):\n",
    "        return len(self.events) == 0\n",
    "        \n",
    "    def __str__(self):\n",
    "        # Note that if you print self.events, it would not appear to be sorted\n",
    "        # (although they are sorted internally).\n",
    "        # For this reason we use the function 'sorted'\n",
    "        s = ''\n",
    "        sortedEvents = sorted(self.events)\n",
    "        for e in sortedEvents :\n",
    "            s += str(e) + '\\n'\n",
    "        return s\n"
   ]
  },
  {
   "cell_type": "code",
   "execution_count": 3,
   "metadata": {},
   "outputs": [],
   "source": [
    "class SimResults:\n",
    "    \n",
    "    MAX_QL = 10000\n",
    "    \n",
    "    def __init__(self):\n",
    "        self.sumQL = 0\n",
    "        self.oldTime = 0\n",
    "        self.queueLengthHistogram = zeros(self.MAX_QL + 1)\n",
    "        \n",
    "    def registerQueueLength(self, time, ql):\n",
    "        self.sumQL += ql * (time - self.oldTime)\n",
    "        self.queueLengthHistogram[min(ql, self.MAX_QL)] += (time - self.oldTime)\n",
    "        self.oldTime = time\n",
    "        \n",
    "    def getMeanQueueLength(self): \n",
    "        return self.sumQL / self.oldTime\n",
    "    \n",
    "    def getQueueLengthProbabilities(self) :\n",
    "        return [x/self.oldTime for x in self.queueLengthHistogram]\n",
    "\n",
    "    def plotQueueLengthHistogram(self, maxq=50):\n",
    "        ql = self.getQueueLengthHistogram()\n",
    "        maxx = maxq + 1\n",
    "        plt.figure()\n",
    "        plt.bar(range(0, maxx), ql[0:maxx])\n",
    "        plt.ylabel('P(Q = k)')\n",
    "        plt.xlabel('k')\n",
    "        plt.show()\n",
    "    \n",
    "    def __str__(self):\n",
    "        ql = self.getQueueLengthProbabilities()\n",
    "        s = 'Mean queue length: ' + str(self.getMeanQueueLength()) + '\\n'\n",
    "        s += 'Queue-length probabilities: \\n'\n",
    "        for i in range(21):\n",
    "            s += 'P(Q = ' + str(i) + ') = ' + str(ql[i]) + '\\n'\n",
    "        return s\n",
    "    "
   ]
  },
  {
   "cell_type": "code",
   "execution_count": null,
   "metadata": {},
   "outputs": [],
   "source": [
    "class GGcSimulationQL :\n",
    "    \n",
    "    def __init__(self, arrDist, servDist, nrServers=1):   \n",
    "        self.arrDist = arrDist\n",
    "        self.servDist = servDist\n",
    "        self.nrServers = nrServers\n",
    "        \n",
    "    def simulate(self, T):\n",
    "        q = 0  # current number of customers\n",
    "        t = 0  # current time\n",
    "        res = SimResults()\n",
    "        fes = FES()\n",
    "        firstEvent = Event(Event.ARRIVAL, self.arrDist.rvs())  \n",
    "        fes.add(firstEvent)                                 \n",
    "        while t < T :\n",
    "            e = fes.next()                      # jump to next event\n",
    "            t = e.time                          # update the time\n",
    "            res.registerQueueLength(t, q)       # register the queue length\n",
    "            if e.type == Event.ARRIVAL :        # if event is an arrival:    \n",
    "                q += 1                          # increase queue length\n",
    "                if q <= self.nrServers :     # there is an available server\n",
    "                    dep = Event(Event.DEPARTURE, t + self.servDist.rvs())\n",
    "                    fes.add(dep)\n",
    "                arr = Event(Event.ARRIVAL, t + self.arrDist.rvs()) \n",
    "                fes.add(arr)                    # schedule next arrival\n",
    "            elif e.type == Event.DEPARTURE :    # event is departure  \n",
    "                q -= 1                          # decrease queue length\n",
    "                if q >= self.nrServers :     # someone is waiting for service\n",
    "                    dep = Event(Event.DEPARTURE, t + self.servDist.rvs())\n",
    "                    fes.add(dep)\n",
    "        return res\n",
    "    "
   ]
  },
  {
   "cell_type": "code",
   "execution_count": null,
   "metadata": {},
   "outputs": [],
   "source": [
    "arrDist = Distribution(stats.expon(scale=1/2.0))\n",
    "servDist = Distribution(stats.expon(scale=1/1.0))\n",
    "sim = GGcSimulationQL(arrDist, servDist, 3)\n",
    "res = sim.simulate(1000000)\n",
    "print(res)"
   ]
  },
  {
   "cell_type": "markdown",
   "metadata": {},
   "source": [
    "## Exercise c.\n",
    "Use your discrete-event simulation to present performance measures (perhaps probability of blocking for the different customer priority classes, probability of waiting, mean queue length, mean waiting time,...) for the extended system for different values of $\\lambda_L$, $\\lambda_H$, and $\\delta$, and different values of $N$. Elaborate on your findings by creating a comprehensive management report including several sensitivity analyses."
   ]
  },
  {
   "cell_type": "code",
   "execution_count": null,
   "metadata": {},
   "outputs": [],
   "source": []
  },
  {
   "cell_type": "markdown",
   "metadata": {},
   "source": [
    "## Exercise d.\n",
    "Investigate the didderence in performance between the original system ($N = 1$) and the extended system (finite $N$). For instance, how fast does the behavior of the extended system mimic the original system behavior as $N$ increases?"
   ]
  },
  {
   "cell_type": "code",
   "execution_count": null,
   "metadata": {},
   "outputs": [],
   "source": []
  }
 ],
 "metadata": {
  "kernelspec": {
   "display_name": "Python 3",
   "language": "python",
   "name": "python3"
  },
  "language_info": {
   "codemirror_mode": {
    "name": "ipython",
    "version": 3
   },
   "file_extension": ".py",
   "mimetype": "text/x-python",
   "name": "python",
   "nbconvert_exporter": "python",
   "pygments_lexer": "ipython3",
   "version": "3.7.3"
  }
 },
 "nbformat": 4,
 "nbformat_minor": 2
}
