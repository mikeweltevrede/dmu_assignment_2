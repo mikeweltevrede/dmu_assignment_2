{
 "cells": [
  {
   "cell_type": "markdown",
   "metadata": {},
   "source": [
    "# Decision Making Under Uncertainty - Assignment 2\n",
    "\n",
    "Group 2:\n",
    "- Martijn Ketelaars (ANR: 120975)\n",
    "- Robbie Reyerse (ANR: 109997)\n",
    "- Rosalien Timmerhuis (ANR: 520618)\n",
    "- Mike Weltevrede (ANR: 756479)\n",
    "\n",
    "## Exercise a.\n",
    "Derive the product-form solution for the stationary distribution of this Jackson network and determine the stability conditions (consult Lecture on 30 October)."
   ]
  },
  {
   "cell_type": "code",
   "execution_count": null,
   "metadata": {},
   "outputs": [],
   "source": []
  },
  {
   "cell_type": "markdown",
   "metadata": {},
   "source": [
    "## Exercise b.\n",
    "Write for this extended system a discrete-event simulation. In order to do this, you might need object-oriented programming."
   ]
  },
  {
   "cell_type": "code",
   "execution_count": 1,
   "metadata": {},
   "outputs": [],
   "source": [
    "from scipy import stats\n",
    "from collections import deque\n",
    "import heapq\n",
    "import numpy as np\n",
    "import matplotlib.pyplot as plt\n",
    "\n",
    "verbose = True"
   ]
  },
  {
   "cell_type": "code",
   "execution_count": 2,
   "metadata": {},
   "outputs": [],
   "source": [
    "class Customer :\n",
    "\n",
    "    def __init__(self, arrivalTime, priority):\n",
    "        self.arrivalTime = arrivalTime\n",
    "        self.serviceTime = 0\n",
    "        self.systemArrivalTime = arrivalTime\n",
    "        self.priority = priority\n",
    "        \n",
    "        # location: holding, needy, content, out, queue_needy\n",
    "        self.location = 'holding'\n",
    "        \n",
    "    def moveTo(self, location, time, newServiceTime):\n",
    "        \n",
    "        assert location.lower() in {'holding', 'needy', 'content', 'out', 'queue_needy'},\\\n",
    "            \"Not a proper location. Location should be holding, needy, content, out, or queue_needy\"\n",
    "        \n",
    "        self.location = location.lower()\n",
    "        self.arrivalTime = time\n",
    "        self.serviceTime = newServiceTime\n",
    "        \n",
    "    def leaveSystem(self):\n",
    "        self.location = 'out'\n",
    "        self.serviceTime = -1"
   ]
  },
  {
   "cell_type": "code",
   "execution_count": 3,
   "metadata": {},
   "outputs": [],
   "source": [
    "class Event:\n",
    "\n",
    "    ARRIVAL = 'ARRIVAL'\n",
    "    DEPARTURE = 'DEPARTURE'\n",
    "    \n",
    "    def __init__(self, typ, time, cust): \n",
    "        self.type = typ\n",
    "        self.time = time\n",
    "        self.customer = cust\n",
    "        \n",
    "    def __lt__(self, other):\n",
    "        return self.time < other.time\n",
    "        \n",
    "    def __str__(self):\n",
    "        s = ('Arrival', 'Departure')\n",
    "        return self.type + \" of customer \" + str(self.customer) + ' at t = ' + str(self.time)\n"
   ]
  },
  {
   "cell_type": "code",
   "execution_count": 4,
   "metadata": {},
   "outputs": [],
   "source": [
    "class FES :\n",
    "    \n",
    "    def __init__(self):\n",
    "        self.events = []\n",
    "        \n",
    "    def add(self, event):\n",
    "        heapq.heappush(self.events, event)\n",
    "        \n",
    "    def next(self):\n",
    "        return heapq.heappop(self.events)\n",
    "    \n",
    "    def isEmpty(self):\n",
    "        return len(self.events) == 0\n",
    "        \n",
    "    def __str__(self):\n",
    "        # Note that if you print self.events, it would not appear to be sorted\n",
    "        # (although they are sorted internally).\n",
    "        # For this reason we use the function 'sorted'\n",
    "        s = ''\n",
    "        sortedEvents = sorted(self.events)\n",
    "        for e in sortedEvents :\n",
    "            s += str(e) + '\\n'\n",
    "        return s\n"
   ]
  },
  {
   "cell_type": "code",
   "execution_count": 5,
   "metadata": {},
   "outputs": [],
   "source": [
    "class NeedyServer:\n",
    "    \n",
    "    def __init__(self, servDist, nrServers=2):\n",
    "        self.servDist = servDist\n",
    "        self.nrServers = nrServers\n",
    "        self.number_of_customers = 0 # Number of customers at this server, not including queue\n",
    "        \n",
    "    def __len__(self):\n",
    "        return self.number_of_customers\n",
    "        \n",
    "class ContentServer:\n",
    "    \n",
    "    def __init__(self, servDist):\n",
    "        self.servDist = servDist\n",
    "        self.number_of_customers = 0\n",
    "    \n",
    "    def __len__(self):\n",
    "        return self.number_of_customers\n",
    "    "
   ]
  },
  {
   "cell_type": "code",
   "execution_count": 6,
   "metadata": {},
   "outputs": [],
   "source": [
    "class SimulationResults:\n",
    "    \n",
    "    def __init__(self):\n",
    "        self.results = {\n",
    "            'blocking_probability': {'high': 0,\n",
    "                                     'low': 0,\n",
    "                                     'total': 0},\n",
    "            'waiting_probability_needy': {'high_priority': 0,\n",
    "                                          'low_priority': 0},\n",
    "            'mean_time_in_system': {'high_priority': 0,\n",
    "                                    'low_priority': 0},\n",
    "            'mean_waiting_time_in_system': {'high_priority': 0,\n",
    "                                            'low_priority': 0},\n",
    "            'mean_waiting_time_to_enter_system': {'high_priority': 0,\n",
    "                                                  'low_priority': 0},\n",
    "            'mean_queue_length': {'holding_high_priority': 0,\n",
    "                                  'holding_low_priority': 0,\n",
    "                                  'needy': 0},\n",
    "            'utilisation_needy': 0\n",
    "        }\n",
    "        self.results = {}\n",
    "        \n",
    "        self.number_of_arrivals = {'high': 0, 'low': 0}\n",
    "        self.number_of_arrivals_waiting = {'high': 0, 'low': 0}\n",
    "        \n",
    "        self.total_needy_queue_length = 0\n",
    "        \n",
    "    def register_arrival(self, priority, waiting=False):\n",
    "        self.number_of_arrivals[priority] += 1\n",
    "\n",
    "        if waiting:\n",
    "            self.number_of_arrivals_waiting[priority] += 1\n",
    "    \n",
    "    def calculate_blocking_probability(self):\n",
    "        # number of arrivals that have to wait in holding / total number of arrivals\n",
    "        \n",
    "        self.results['blocking_probability'] = {priority : self.number_of_arrivals_waiting[priority] / self.number_of_arrivals[priority]\n",
    "                                               for priority in ('high','low')}\n",
    "        self.results['blocking_probability']['total'] = sum(self.number_of_arrivals_waiting.values()) / sum(self.number_of_arrivals.values())\n",
    "        \n",
    "        \n",
    "    def update_total_needy_queue_length(self, length):\n",
    "        self.total_needy_queue_length += length\n",
    "        "
   ]
  },
  {
   "cell_type": "code",
   "execution_count": 7,
   "metadata": {},
   "outputs": [],
   "source": [
    "class Network:\n",
    "    \n",
    "    def __init__(self, lambda_L, lambda_H, servDist_needy, nrServers, servDist_content, N, p):\n",
    "        self.arrDist = stats.expon(scale=1/(lambda_L+lambda_H))\n",
    "        self.high_priority_probability = lambda_H/(lambda_L+lambda_H) # probability for high\n",
    "        self.N = N\n",
    "        self.p = p\n",
    "        \n",
    "        # Create servers\n",
    "        self.NeedyServer = NeedyServer(servDist_needy, nrServers)\n",
    "        self.ContentServer = ContentServer(servDist_content)\n",
    "        self.simresults = SimulationResults()\n",
    "        \n",
    "    def simulate(self, T, burn_in_period=None):\n",
    "        \n",
    "        # If burn-in period is not specified, take 20% of T, rounded down\n",
    "        if burn_in_period is None:\n",
    "            burn_in_period = T // 5\n",
    "        \n",
    "        t = 0 # initialise time\n",
    "        total_needy_queue=0\n",
    "        \n",
    "        fes = FES()                  \n",
    "        queue_holding_high = deque() # the holding queue for high priority\n",
    "        queue_holding_low = deque()  # the holding queue for low priority\n",
    "        queue_needy = deque()        # the queue for needy server\n",
    "        \n",
    "        # Generate arrival of the first customer\n",
    "        u = stats.uniform().rvs()\n",
    "        \n",
    "        if u < self.high_priority_probability:\n",
    "            c0 = Customer(self.arrDist.rvs(), priority='high')\n",
    "        else:\n",
    "            c0 = Customer(self.arrDist.rvs(), priority='low')\n",
    "            \n",
    "        firstEvent = Event(Event.ARRIVAL, c0.arrivalTime, c0)\n",
    "        fes.add(firstEvent) # schedule first arrival event\n",
    "        \n",
    "        # if number people < N: go to needy queue\n",
    "        while t < T:\n",
    "            \n",
    "            burn_in = (t < burn_in_period)\n",
    "            \n",
    "            e = fes.next()                      # jump to next event\n",
    "            t = e.time                          # update the time\n",
    "            c1 = e.customer                     # customer associated with this event\n",
    "            \n",
    "            number_in_system = len(queue_needy) + len(self.NeedyServer) + len(self.ContentServer)\n",
    "            \n",
    "            # Update total number of people that had to wait in the needy queue\n",
    "            if not burn_in:\n",
    "                self.simresults.update_total_needy_queue_length(length=len(queue_needy))\n",
    "            \n",
    "            if e.type == 'ARRIVAL':\n",
    "                if c1.location == 'holding':\n",
    "                    \n",
    "                    # Someone arrive\n",
    "                    if number_in_system < self.N:\n",
    "                        \n",
    "                        # Admit this customer\n",
    "                        if len(self.NeedyServer) < self.NeedyServer.nrServers:\n",
    "                            # Admit this customer\n",
    "                            serviceTime = self.NeedyServer.servDist.rvs()\n",
    "                            c1.moveTo('needy', t, serviceTime)\n",
    "                            \n",
    "                            # Update number of customers at needy server\n",
    "                            self.NeedyServer.number_of_customers += 1\n",
    "                            \n",
    "                            dep = Event(Event.DEPARTURE, t + serviceTime, c1)\n",
    "                            fes.add(dep)\n",
    "\n",
    "                        else:\n",
    "                            # Queue in needy, independent of priority\n",
    "                            queue_needy.append(c1)\n",
    "                            c1.moveTo('queue_needy', t, _)\n",
    "\n",
    "                        if not burn_in:\n",
    "                            self.simresults.register_arrival(priority=c1.priority)\n",
    "                            \n",
    "                    else:\n",
    "                        # else: add to holding queue\n",
    "                        if c1.priority == 'high':\n",
    "                            queue_holding_high.append(c1)\n",
    "                        else:\n",
    "                            queue_holding_low.append(c1)\n",
    "                            \n",
    "                        if not burn_in:\n",
    "                            self.simresults.register_arrival(priority=c1.priority, waiting=True)\n",
    "\n",
    "                    # Schedule new arrival\n",
    "                    u = stats.uniform().rvs()\n",
    "\n",
    "                    if u < self.high_priority_probability:\n",
    "                        c2 = Customer(self.arrDist.rvs(), priority='high')\n",
    "                    else:\n",
    "                        c2 = Customer(self.arrDist.rvs(), priority='low')\n",
    "\n",
    "                    arrival = Event(Event.ARRIVAL, t + c2.arrivalTime, c2)\n",
    "                    fes.add(arrival)\n",
    "                else:\n",
    "                    raise Exception(\"ERROR: Arrival from\", c1.location)\n",
    "                    \n",
    "                \n",
    "            elif e.type == 'DEPARTURE':\n",
    "                # Then it's a departure\n",
    "                \n",
    "                # Check if departed from needy or from content\n",
    "                if c1.location == 'content':\n",
    "                    \n",
    "                    # Update number of customers at needy server\n",
    "                    self.ContentServer.number_of_customers -= 1\n",
    "                    \n",
    "                    if len(self.NeedyServer) < self.NeedyServer.nrServers:\n",
    "                        serviceTime = self.NeedyServer.servDist.rvs()\n",
    "                        c1.moveTo('needy', t, serviceTime)\n",
    "                        \n",
    "                        # Update number of customers at needy server\n",
    "                        self.NeedyServer.number_of_customers += 1\n",
    "                        \n",
    "                        dep = Event(Event.DEPARTURE, t + serviceTime, c1)\n",
    "                        fes.add(dep)\n",
    "                    else:\n",
    "                        queue_needy.append(c1)\n",
    "                        c1.moveTo('queue_needy', t, _)\n",
    "                        \n",
    "                elif c1.location == 'needy':\n",
    "                    \n",
    "                    # Update number of customers at needy server\n",
    "                    self.NeedyServer.number_of_customers -= 1\n",
    "                    \n",
    "                    # Admit person from needy queue, if nonempty\n",
    "                    if len(queue_needy) > 0:\n",
    "                        c2 = queue_needy.popleft()\n",
    "                        \n",
    "                        serviceTime = self.NeedyServer.servDist.rvs()\n",
    "                        c2.moveTo('needy', t, serviceTime)\n",
    "\n",
    "                        # Update number of customers at needy server\n",
    "                        self.NeedyServer.number_of_customers += 1\n",
    "\n",
    "                        dep = Event(Event.DEPARTURE, t + serviceTime, c2)\n",
    "                        fes.add(dep)\n",
    "                    \n",
    "                    # Check if leaves or goes to content\n",
    "                    u = stats.uniform().rvs()\n",
    "\n",
    "                    if u < self.p:\n",
    "                        # Go to content\n",
    "                        serviceTime = self.ContentServer.servDist.rvs()\n",
    "                        c1.moveTo('content', t, serviceTime)\n",
    "                        \n",
    "                        # Update number of customers at needy server\n",
    "                        self.ContentServer.number_of_customers += 1\n",
    "                        \n",
    "                        dep = Event(Event.DEPARTURE, t + serviceTime, c1)\n",
    "                        fes.add(dep)\n",
    "                        \n",
    "                    else:\n",
    "                        # Leave system\n",
    "                        c1.leaveSystem() # Set c1.location to out and c1.serviceTime to -1\n",
    "                        \n",
    "                        # Admit someone from holding queue\n",
    "                        if len(queue_holding_high) > 0:\n",
    "                            c2 = queue_holding_high.popleft()\n",
    "                            \n",
    "                            # Note that we only enter here if a person is admitted from the holding queue\n",
    "                            if len(self.NeedyServer) < self.NeedyServer.nrServers:\n",
    "                                serviceTime = self.NeedyServer.servDist.rvs()\n",
    "                                c2.moveTo('needy', t, serviceTime)\n",
    "\n",
    "                                # Update number of customers at needy server\n",
    "                                self.NeedyServer.number_of_customers += 1\n",
    "\n",
    "                                dep = Event(Event.DEPARTURE, t + serviceTime, c2)\n",
    "                                fes.add(dep)\n",
    "                            else:\n",
    "                                queue_needy.append(c2)\n",
    "                                c2.moveTo('queue_needy', t, _)\n",
    "                            \n",
    "                        elif len(queue_holding_low) > 0:\n",
    "                            c2 = queue_holding_low.popleft()\n",
    "                            \n",
    "                            # Note that we only enter here if a person is admitted from the holding queue\n",
    "                            if len(self.NeedyServer) < self.NeedyServer.nrServers:\n",
    "                                serviceTime = self.NeedyServer.servDist.rvs()\n",
    "                                c2.moveTo('needy', t, serviceTime)\n",
    "\n",
    "                                # Update number of customers at needy server\n",
    "                                self.NeedyServer.number_of_customers += 1\n",
    "\n",
    "                                dep = Event(Event.DEPARTURE, t + serviceTime, c2)\n",
    "                                fes.add(dep)\n",
    "                            else:\n",
    "                                queue_needy.append(c2)\n",
    "                                c2.moveTo('queue_needy', t, _)\n",
    "                        else:\n",
    "                            pass\n",
    "                        \n",
    "                else:\n",
    "                    raise Exception(\"ERROR: Departure from\", c1.location)\n",
    "        return \"Simulation finished\""
   ]
  },
  {
   "cell_type": "code",
   "execution_count": 8,
   "metadata": {
    "scrolled": true
   },
   "outputs": [
    {
     "data": {
      "text/plain": [
       "'Simulation finished'"
      ]
     },
     "execution_count": 8,
     "metadata": {},
     "output_type": "execute_result"
    }
   ],
   "source": [
    "np.random.seed(1)\n",
    "T = 1000\n",
    "\n",
    "# Initialise arguments\n",
    "lambda_L = 0.5\n",
    "lambda_H = 0.25\n",
    "nrServers = 2\n",
    "N = 5\n",
    "p = 0.4\n",
    "\n",
    "mu = 1\n",
    "delta = 1\n",
    "\n",
    "servDist_needy = stats.expon(scale=float(1/mu))\n",
    "servDist_content = stats.expon(scale=float(1/delta))\n",
    "\n",
    "sim = Network(lambda_L, lambda_H, servDist_needy, nrServers,\n",
    "              servDist_content, N, p)\n",
    "\n",
    "sim.simulate(T, 100)"
   ]
  },
  {
   "cell_type": "code",
   "execution_count": 9,
   "metadata": {},
   "outputs": [
    {
     "data": {
      "text/plain": [
       "{'high': 254, 'low': 433}"
      ]
     },
     "execution_count": 9,
     "metadata": {},
     "output_type": "execute_result"
    }
   ],
   "source": [
    "sim.simresults.number_of_arrivals"
   ]
  },
  {
   "cell_type": "code",
   "execution_count": 10,
   "metadata": {},
   "outputs": [
    {
     "data": {
      "text/plain": [
       "{'high': 23, 'low': 50}"
      ]
     },
     "execution_count": 10,
     "metadata": {},
     "output_type": "execute_result"
    }
   ],
   "source": [
    "sim.simresults.number_of_arrivals_waiting"
   ]
  },
  {
   "cell_type": "code",
   "execution_count": 11,
   "metadata": {
    "scrolled": true
   },
   "outputs": [
    {
     "name": "stdout",
     "output_type": "stream",
     "text": [
      "Blocking probability: {'high': 0.09055118110236221, 'low': 0.11547344110854503, 'total': 0.10625909752547306}\n",
      "Total needy queue length: 1711\n",
      "Mean needy queue length: 0.1316153846153846\n"
     ]
    }
   ],
   "source": [
    "sim.simresults.calculate_blocking_probability()\n",
    "print(\"Blocking probability:\", sim.simresults.results['blocking_probability'])\n",
    "\n",
    "q_n = sim.simresults.total_needy_queue_length\n",
    "print(\"Total needy queue length:\", q_n)\n",
    "print(\"Mean needy queue length:\", q_n / (T*13))"
   ]
  },
  {
   "cell_type": "code",
   "execution_count": 12,
   "metadata": {
    "scrolled": true
   },
   "outputs": [
    {
     "data": {
      "text/plain": [
       "0.25"
      ]
     },
     "execution_count": 12,
     "metadata": {},
     "output_type": "execute_result"
    }
   ],
   "source": [
    "lambda_H"
   ]
  },
  {
   "cell_type": "markdown",
   "metadata": {},
   "source": [
    "## Exercise c.\n",
    "Use your discrete-event simulation to present performance measures (perhaps probability of blocking for the different customer priority classes, probability of waiting, mean queue length, mean waiting time,...) for the extended system for different values of $\\lambda_L$, $\\lambda_H$, and $\\delta$, and different values of $N$. Elaborate on your findings by creating a comprehensive management report including several sensitivity analyses."
   ]
  },
  {
   "cell_type": "code",
   "execution_count": 13,
   "metadata": {
    "scrolled": false
   },
   "outputs": [
    {
     "data": {
      "text/plain": [
       "(0.25, 1.75, 0.5)"
      ]
     },
     "execution_count": 13,
     "metadata": {},
     "output_type": "execute_result"
    }
   ],
   "source": [
    "lambda_H, nrServers*mu-lambda_H, lambda_L"
   ]
  },
  {
   "cell_type": "code",
   "execution_count": 14,
   "metadata": {
    "scrolled": true
   },
   "outputs": [
    {
     "name": "stdout",
     "output_type": "stream",
     "text": [
      "Probability for lambda_L equal to 0.01\n",
      "Blocking probability: {'high': 0.0, 'low': 0.0, 'total': 0.0}\n",
      "\n",
      "Probability for lambda_L equal to 0.1411111111111111\n",
      "Blocking probability: {'high': 0.0, 'low': 0.0, 'total': 0.0}\n",
      "\n",
      "Probability for lambda_L equal to 0.2722222222222222\n",
      "Blocking probability: {'high': 0.0, 'low': 0.0, 'total': 0.0}\n",
      "\n",
      "Probability for lambda_L equal to 0.4033333333333333\n",
      "Blocking probability: {'high': 0.0, 'low': 0.0, 'total': 0.0}\n",
      "\n",
      "Probability for lambda_L equal to 0.5344444444444444\n",
      "Blocking probability: {'high': 0.0, 'low': 0.004694835680751174, 'total': 0.0045871559633027525}\n",
      "\n",
      "Probability for lambda_L equal to 0.6655555555555555\n",
      "Blocking probability: {'high': 0.16666666666666666, 'low': 0.05390334572490706, 'total': 0.05514705882352941}\n",
      "\n",
      "Probability for lambda_L equal to 0.7966666666666666\n",
      "Blocking probability: {'high': 0.18181818181818182, 'low': 0.19090909090909092, 'total': 0.19076005961251863}\n",
      "\n",
      "Probability for lambda_L equal to 0.9277777777777777\n",
      "Blocking probability: {'high': 0.2857142857142857, 'low': 0.3468286099865047, 'total': 0.3462566844919786}\n",
      "\n",
      "Probability for lambda_L equal to 1.0588888888888888\n",
      "Blocking probability: {'high': 0.3333333333333333, 'low': 0.7097505668934241, 'total': 0.7072072072072072}\n",
      "\n",
      "Probability for lambda_L equal to 1.19\n",
      "Blocking probability: {'high': 0.5, 'low': 0.7557172557172557, 'total': 0.7551867219917012}\n",
      "\n"
     ]
    }
   ],
   "source": [
    "#changing lambda L (and thus fix lambda H)\n",
    "np.random.seed(1)\n",
    "runs = 10\n",
    "T = 1000\n",
    "\n",
    "# Specify which values for lambda_L to test\n",
    "lambda_H_temp = 1/100\n",
    "lambda_L_array = np.linspace(lambda_H_temp, (1-p)*nrServers*mu-lambda_H_temp, runs)\n",
    "lambda_L_temp = lambda_L\n",
    "\n",
    "probabilities_total = np.zeros(runs)\n",
    "probabilities_high = np.zeros(runs)\n",
    "probabilities_low = np.zeros(runs)\n",
    "\n",
    "for i in range(runs):\n",
    "    lambda_L = lambda_L_array[i]\n",
    "    sim = Network(lambda_L, lambda_H_temp, servDist_needy, nrServers,\n",
    "                  servDist_content, N, p)\n",
    "    sim.simulate(T)\n",
    "    sim.simresults.calculate_blocking_probability()\n",
    "    \n",
    "    if verbose:\n",
    "        # verbose is specified as a Boolean at the top of this file. If True, print this, else do not.\n",
    "        print(\"Probability for lambda_L equal to\", lambda_L)\n",
    "        print(\"Blocking probability:\", sim.simresults.results['blocking_probability'])\n",
    "        print(\"\")\n",
    "    \n",
    "    probabilities_total[i] = sim.simresults.results['blocking_probability']['total']\n",
    "    probabilities_high[i] = sim.simresults.results['blocking_probability']['high']\n",
    "    probabilities_low[i] = sim.simresults.results['blocking_probability']['low']\n",
    "    \n",
    "# Reset lambda_L\n",
    "lambda_L = lambda_L_temp"
   ]
  },
  {
   "cell_type": "code",
   "execution_count": 15,
   "metadata": {},
   "outputs": [
    {
     "data": {
      "text/plain": [
       "({'high': 2, 'low': 962}, 964)"
      ]
     },
     "execution_count": 15,
     "metadata": {},
     "output_type": "execute_result"
    }
   ],
   "source": [
    "sim.simresults.number_of_arrivals, sum(sim.simresults.number_of_arrivals.values())"
   ]
  },
  {
   "cell_type": "code",
   "execution_count": 16,
   "metadata": {},
   "outputs": [
    {
     "data": {
      "image/png": "[encoded data removed]",
      "text/plain": [
       "<Figure size 432x288 with 1 Axes>"
      ]
     },
     "metadata": {
      "needs_background": "light"
     },
     "output_type": "display_data"
    }
   ],
   "source": [
    "plt.plot(lambda_L_array+lambda_H_temp, probabilities_total, marker='o', color='#de5285', label=\"Total\")\n",
    "\n",
    "plt.xlabel('$\\lambda_{total}$')\n",
    "plt.ylabel('Blocking probability')\n",
    "plt.title('Change in total blocking probability as $\\lambda_{total}$ changes')\n",
    "plt.show()"
   ]
  },
  {
   "cell_type": "code",
   "execution_count": 17,
   "metadata": {
    "scrolled": true
   },
   "outputs": [
    {
     "name": "stdout",
     "output_type": "stream",
     "text": [
      "Probability for lambda_H equal to 0.01\n",
      "Blocking probability: {'high': 0.0, 'low': 0.0, 'total': 0.0}\n",
      "\n",
      "Probability for lambda_H equal to 0.23\n",
      "Blocking probability: {'high': 0.0, 'low': 0.0, 'total': 0.0}\n",
      "\n",
      "Probability for lambda_H equal to 0.45\n",
      "Blocking probability: {'high': 0.008771929824561403, 'low': 0.0, 'total': 0.008595988538681949}\n",
      "\n",
      "Probability for lambda_H equal to 0.67\n",
      "Blocking probability: {'high': 0.0, 'low': 0.0, 'total': 0.0}\n",
      "\n",
      "Probability for lambda_H equal to 0.89\n",
      "Blocking probability: {'high': 0.12973760932944606, 'low': 0.5, 'total': 0.1318840579710145}\n",
      "\n",
      "Probability for lambda_H equal to 1.11\n",
      "Blocking probability: {'high': 0.8324022346368715, 'low': 1.0, 'total': 0.8337028824833703}\n",
      "\n",
      "Probability for lambda_H equal to 1.33\n",
      "Blocking probability: {'high': 1.0, 'low': 1.0, 'total': 1.0}\n",
      "\n",
      "Probability for lambda_H equal to 1.55\n",
      "Blocking probability: {'high': 1.0, 'low': 1.0, 'total': 1.0}\n",
      "\n",
      "Probability for lambda_H equal to 1.77\n",
      "Blocking probability: {'high': 1.0, 'low': 1.0, 'total': 1.0}\n",
      "\n",
      "Probability for lambda_H equal to 1.99\n",
      "Blocking probability: {'high': 1.0, 'low': 1.0, 'total': 1.0}\n",
      "\n"
     ]
    }
   ],
   "source": [
    "#changing lambda H (and thus fix lambda_L)\n",
    "np.random.seed(1)\n",
    "\n",
    "# Specify which values for lambda_H to test\n",
    "lambda_L_temp = 1/100\n",
    "lambda_H_array = np.linspace(lambda_L_temp, nrServers*mu-lambda_L_temp, runs)\n",
    "lambda_H_temp = lambda_H\n",
    "\n",
    "probabilities_total = np.zeros(runs)\n",
    "probabilities_high = np.zeros(runs)\n",
    "probabilities_low = np.zeros(runs)\n",
    "\n",
    "for i in range(runs):\n",
    "    lambda_H = lambda_H_array[i]\n",
    "    sim = Network(lambda_L_temp, lambda_H, servDist_needy, nrServers,\n",
    "                  servDist_content, N, p)\n",
    "    sim.simulate(T)\n",
    "    sim.simresults.calculate_blocking_probability()\n",
    "    \n",
    "    if verbose:\n",
    "        # verbose is specified as a Boolean at the top of this file. If True, print this, else do not.\n",
    "        print(\"Probability for lambda_H equal to\", lambda_H)\n",
    "        print(\"Blocking probability:\", sim.simresults.results['blocking_probability'])\n",
    "        print(\"\")\n",
    "    \n",
    "    probabilities_total[i] = sim.simresults.results['blocking_probability']['total']\n",
    "    probabilities_high[i] = sim.simresults.results['blocking_probability']['high']\n",
    "    probabilities_low[i] = sim.simresults.results['blocking_probability']['low']\n",
    "    \n",
    "lambda_H = lambda_H_temp"
   ]
  },
  {
   "cell_type": "code",
   "execution_count": 18,
   "metadata": {},
   "outputs": [
    {
     "data": {
      "image/png": "[encoded data removed]",
      "text/plain": [
       "<Figure size 432x288 with 1 Axes>"
      ]
     },
     "metadata": {
      "needs_background": "light"
     },
     "output_type": "display_data"
    }
   ],
   "source": [
    "plt.plot(lambda_H_array+lambda_L_temp, probabilities_total, marker='o', color='#de5285', label=\"Total\")\n",
    "\n",
    "plt.xlabel('$\\lambda_{total}$')\n",
    "plt.ylabel('Blocking probability')\n",
    "plt.title('Change in total blocking probability as $\\lambda_H$ changes')\n",
    "plt.show()"
   ]
  },
  {
   "cell_type": "code",
   "execution_count": 19,
   "metadata": {},
   "outputs": [
    {
     "name": "stdout",
     "output_type": "stream",
     "text": [
      "Probability for delta equal to 4.0\n",
      "Blocking probability: {'high': 0.11158798283261803, 'low': 0.1378504672897196, 'total': 0.12859304084720122}\n",
      "\n",
      "Probability for delta equal to 4.444444444444445\n",
      "Blocking probability: {'high': 0.05527638190954774, 'low': 0.04433497536945813, 'total': 0.047933884297520664}\n",
      "\n",
      "Probability for delta equal to 4.888888888888889\n",
      "Blocking probability: {'high': 0.09183673469387756, 'low': 0.1044776119402985, 'total': 0.10033444816053512}\n",
      "\n",
      "Probability for delta equal to 5.333333333333333\n",
      "Blocking probability: {'high': 0.12138728323699421, 'low': 0.11421911421911422, 'total': 0.11627906976744186}\n",
      "\n",
      "Probability for delta equal to 5.777777777777778\n",
      "Blocking probability: {'high': 0.08839779005524862, 'low': 0.10256410256410256, 'total': 0.09807355516637478}\n",
      "\n",
      "Probability for delta equal to 6.222222222222222\n",
      "Blocking probability: {'high': 0.02857142857142857, 'low': 0.04221635883905013, 'total': 0.03735144312393888}\n",
      "\n",
      "Probability for delta equal to 6.666666666666666\n",
      "Blocking probability: {'high': 0.1511111111111111, 'low': 0.10353535353535354, 'total': 0.12077294685990338}\n",
      "\n",
      "Probability for delta equal to 7.111111111111111\n",
      "Blocking probability: {'high': 0.05527638190954774, 'low': 0.04976303317535545, 'total': 0.05152979066022544}\n",
      "\n",
      "Probability for delta equal to 7.555555555555555\n",
      "Blocking probability: {'high': 0.0945945945945946, 'low': 0.06596306068601583, 'total': 0.07653910149750416}\n",
      "\n",
      "Probability for delta equal to 8.0\n",
      "Blocking probability: {'high': 0.14903846153846154, 'low': 0.10473815461346633, 'total': 0.11986863711001643}\n",
      "\n"
     ]
    }
   ],
   "source": [
    "#changing lambda H (and thus fix lambda_L)\n",
    "np.random.seed(1)\n",
    "\n",
    "# Specify which values for lambda_H to test\n",
    "delta_temp = delta\n",
    "delta_array = np.linspace(4, 4*nrServers*mu, runs)\n",
    "\n",
    "probabilities_total = np.zeros(runs)\n",
    "probabilities_high = np.zeros(runs)\n",
    "probabilities_low = np.zeros(runs)\n",
    "\n",
    "for i in range(runs):\n",
    "    delta = delta_array[i]\n",
    "    servDist_content = stats.expon(scale=float(1/delta))\n",
    "    \n",
    "    sim = Network(lambda_L, lambda_H, servDist_needy, nrServers,\n",
    "                  servDist_content, N, p)\n",
    "    sim.simulate(T)\n",
    "    sim.simresults.calculate_blocking_probability()\n",
    "    \n",
    "    if verbose:\n",
    "        # verbose is specified as a Boolean at the top of this file. If True, print this, else do not.\n",
    "        print(\"Probability for delta equal to\", delta)\n",
    "        print(\"Blocking probability:\", sim.simresults.results['blocking_probability'])\n",
    "        print(\"\")\n",
    "    \n",
    "    probabilities_total[i] = sim.simresults.results['blocking_probability']['total']\n",
    "    probabilities_high[i] = sim.simresults.results['blocking_probability']['high']\n",
    "    probabilities_low[i] = sim.simresults.results['blocking_probability']['low']\n",
    "\n",
    "# Reset to original values\n",
    "delta = delta_temp\n",
    "servDist_content = stats.expon(scale=float(1/delta))"
   ]
  },
  {
   "cell_type": "code",
   "execution_count": 20,
   "metadata": {},
   "outputs": [
    {
     "data": {
      "image/png": "[encoded data removed]",
      "text/plain": [
       "<Figure size 432x288 with 1 Axes>"
      ]
     },
     "metadata": {
      "needs_background": "light"
     },
     "output_type": "display_data"
    }
   ],
   "source": [
    "plt.plot(delta_array, probabilities_total, marker='o', color='#de5285', label=\"Total\")\n",
    "\n",
    "plt.xlabel('$\\delta$')\n",
    "plt.ylabel('Blocking probability')\n",
    "plt.title('Change in total blocking probability as $\\delta$ changes')\n",
    "plt.show()"
   ]
  },
  {
   "cell_type": "code",
   "execution_count": 21,
   "metadata": {},
   "outputs": [
    {
     "name": "stdout",
     "output_type": "stream",
     "text": [
      "Probability of not leaving system equal to 0.01\n",
      "Mean queue length:  0.023384615384615386\n",
      "\n",
      "Probability of not leaving system equal to 0.10888888888888888\n",
      "Mean queue length:  0.03876923076923077\n",
      "\n",
      "Probability of not leaving system equal to 0.20777777777777778\n",
      "Mean queue length:  0.04715384615384616\n",
      "\n",
      "Probability of not leaving system equal to 0.30666666666666664\n",
      "Mean queue length:  0.07038461538461538\n",
      "\n",
      "Probability of not leaving system equal to 0.40555555555555556\n",
      "Mean queue length:  0.17976923076923076\n",
      "\n",
      "Probability of not leaving system equal to 0.5044444444444445\n",
      "Mean queue length:  0.19407692307692306\n",
      "\n",
      "Probability of not leaving system equal to 0.6033333333333333\n",
      "Mean queue length:  0.5013076923076923\n",
      "\n",
      "Probability of not leaving system equal to 0.7022222222222222\n",
      "Mean queue length:  0.5968461538461538\n",
      "\n",
      "Probability of not leaving system equal to 0.8011111111111111\n",
      "Mean queue length:  0.5453846153846154\n",
      "\n",
      "Probability of not leaving system equal to 0.9\n",
      "Mean queue length:  0.5524615384615384\n",
      "\n"
     ]
    }
   ],
   "source": [
    "# Changing p (comparing the needy queue length)\n",
    "np.random.seed(1)\n",
    "\n",
    "# Specify which values for p to test\n",
    "p_array = np.linspace(0.01, 0.9, runs)\n",
    "\n",
    "mean_queue_length = np.zeros(runs)\n",
    "\n",
    "for i in range(runs):\n",
    "    p = p_array[i]\n",
    "    sim = Network(lambda_L, lambda_H, servDist_needy, nrServers,\n",
    "                  servDist_content, N, p)\n",
    "    sim.simulate(T)\n",
    "    \n",
    "    q_n = sim.simresults.total_needy_queue_length \n",
    "    q_n_mean = q_n / (T *13)\n",
    "    \n",
    "    if verbose:\n",
    "        # verbose is specified as a Boolean at the top of this file. If True, print this, else do not.\n",
    "        print(\"Probability of not leaving system equal to\", p)\n",
    "        print(\"Mean queue length: \", q_n_mean)\n",
    "        print(\"\")\n",
    "    \n",
    "    mean_queue_length[i] = q_n_mean"
   ]
  },
  {
   "cell_type": "code",
   "execution_count": 22,
   "metadata": {},
   "outputs": [
    {
     "data": {
      "image/png": "[encoded data removed]",
      "text/plain": [
       "<Figure size 432x288 with 1 Axes>"
      ]
     },
     "metadata": {
      "needs_background": "light"
     },
     "output_type": "display_data"
    }
   ],
   "source": [
    "plt.plot(p_array, mean_queue_length, marker='o', color='#de5285')\n",
    "plt.xlabel('$p$')\n",
    "plt.ylabel('Mean (needy) queue length')\n",
    "plt.title('Change in mean (needy) queue length as leaving probability $p$ changes')\n",
    "plt.show()"
   ]
  },
  {
   "cell_type": "markdown",
   "metadata": {},
   "source": [
    "## Exercise d.\n",
    "Investigate the difference in performance between the original system ($N = 1$) and the extended system (finite $N$). For instance, how fast does the behavior of the extended system mimic the original system behavior as $N$ increases?"
   ]
  },
  {
   "cell_type": "code",
   "execution_count": null,
   "metadata": {},
   "outputs": [],
   "source": []
  }
 ],
 "metadata": {
  "kernelspec": {
   "display_name": "Python 3",
   "language": "python",
   "name": "python3"
  },
  "language_info": {
   "codemirror_mode": {
    "name": "ipython",
    "version": 3
   },
   "file_extension": ".py",
   "mimetype": "text/x-python",
   "name": "python",
   "nbconvert_exporter": "python",
   "pygments_lexer": "ipython3",
   "version": "3.7.2"
  }
 },
 "nbformat": 4,
 "nbformat_minor": 2
}
